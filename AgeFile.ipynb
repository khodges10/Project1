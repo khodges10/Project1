{
 "cells": [
  {
   "cell_type": "code",
   "execution_count": 2,
   "metadata": {},
   "outputs": [],
   "source": [
    "%matplotlib notebook\n",
    "import matplotlib.pyplot as plt\n",
    "import pandas as pd\n",
    "import numpy as np"
   ]
  },
  {
   "cell_type": "code",
   "execution_count": 3,
   "metadata": {},
   "outputs": [],
   "source": [
    "nba_seasondata = \"Data/Seasons_Stats.csv\"\n",
    "nba_player = \"Data/player_data.csv\"\n",
    "winning_teams = \"Data/winning_teams.csv\"\n",
    "team_records = \"Data/Team_Records.csv\"\n",
    "\n",
    "nba_data1 = pd.read_csv(nba_seasondata)\n",
    "nba_data2 = pd.read_csv(nba_player)\n",
    "winning_df = pd.read_csv(winning_teams)\n",
    "team_df =pd.read_csv(team_records)"
   ]
  },
  {
   "cell_type": "code",
   "execution_count": 11,
   "metadata": {},
   "outputs": [
    {
     "data": {
      "text/html": [
       "<div>\n",
       "<style scoped>\n",
       "    .dataframe tbody tr th:only-of-type {\n",
       "        vertical-align: middle;\n",
       "    }\n",
       "\n",
       "    .dataframe tbody tr th {\n",
       "        vertical-align: top;\n",
       "    }\n",
       "\n",
       "    .dataframe thead th {\n",
       "        text-align: right;\n",
       "    }\n",
       "</style>\n",
       "<table border=\"1\" class=\"dataframe\">\n",
       "  <thead>\n",
       "    <tr style=\"text-align: right;\">\n",
       "      <th></th>\n",
       "      <th>Year</th>\n",
       "      <th>Player</th>\n",
       "      <th>Tm</th>\n",
       "      <th>Age</th>\n",
       "      <th>Pos</th>\n",
       "      <th>college</th>\n",
       "    </tr>\n",
       "  </thead>\n",
       "  <tbody>\n",
       "    <tr>\n",
       "      <th>0</th>\n",
       "      <td>1950.0</td>\n",
       "      <td>Curly Armstrong</td>\n",
       "      <td>FTW</td>\n",
       "      <td>31.0</td>\n",
       "      <td>G-F</td>\n",
       "      <td>Indiana University</td>\n",
       "    </tr>\n",
       "    <tr>\n",
       "      <th>1</th>\n",
       "      <td>1950.0</td>\n",
       "      <td>Cliff Barker</td>\n",
       "      <td>INO</td>\n",
       "      <td>29.0</td>\n",
       "      <td>SG</td>\n",
       "      <td>University of Kentucky</td>\n",
       "    </tr>\n",
       "    <tr>\n",
       "      <th>2</th>\n",
       "      <td>1950.0</td>\n",
       "      <td>Leo Barnhorst</td>\n",
       "      <td>CHS</td>\n",
       "      <td>25.0</td>\n",
       "      <td>SF</td>\n",
       "      <td>University of Notre Dame</td>\n",
       "    </tr>\n",
       "    <tr>\n",
       "      <th>3</th>\n",
       "      <td>1950.0</td>\n",
       "      <td>Ed Bartels</td>\n",
       "      <td>TOT</td>\n",
       "      <td>24.0</td>\n",
       "      <td>F</td>\n",
       "      <td>North Carolina State University</td>\n",
       "    </tr>\n",
       "    <tr>\n",
       "      <th>4</th>\n",
       "      <td>1950.0</td>\n",
       "      <td>Ed Bartels</td>\n",
       "      <td>DNN</td>\n",
       "      <td>24.0</td>\n",
       "      <td>F</td>\n",
       "      <td>North Carolina State University</td>\n",
       "    </tr>\n",
       "  </tbody>\n",
       "</table>\n",
       "</div>"
      ],
      "text/plain": [
       "     Year           Player   Tm   Age  Pos                          college\n",
       "0  1950.0  Curly Armstrong  FTW  31.0  G-F               Indiana University\n",
       "1  1950.0     Cliff Barker  INO  29.0   SG           University of Kentucky\n",
       "2  1950.0    Leo Barnhorst  CHS  25.0   SF         University of Notre Dame\n",
       "3  1950.0       Ed Bartels  TOT  24.0    F  North Carolina State University\n",
       "4  1950.0       Ed Bartels  DNN  24.0    F  North Carolina State University"
      ]
     },
     "execution_count": 11,
     "metadata": {},
     "output_type": "execute_result"
    }
   ],
   "source": [
    "#Merge CSVs\n",
    "nba_data2 = nba_data2.rename(columns = {\"name\":\"Player\"})\n",
    "nba_dataset = pd.merge(nba_data1, nba_data2, how='left',on='Player')\n",
    "#nba_dataset.head()\n",
    "#listing columns needed\n",
    "nba_champion = nba_dataset[[\"Year\", \"Player\", \"Tm\", \"Age\", \"Pos\", \"college\"]]\n",
    "nba_champion.head()"
   ]
  },
  {
   "cell_type": "code",
   "execution_count": 12,
   "metadata": {},
   "outputs": [
    {
     "data": {
      "text/html": [
       "<div>\n",
       "<style scoped>\n",
       "    .dataframe tbody tr th:only-of-type {\n",
       "        vertical-align: middle;\n",
       "    }\n",
       "\n",
       "    .dataframe tbody tr th {\n",
       "        vertical-align: top;\n",
       "    }\n",
       "\n",
       "    .dataframe thead th {\n",
       "        text-align: right;\n",
       "    }\n",
       "</style>\n",
       "<table border=\"1\" class=\"dataframe\">\n",
       "  <thead>\n",
       "    <tr style=\"text-align: right;\">\n",
       "      <th></th>\n",
       "      <th>Year</th>\n",
       "      <th>Tm</th>\n",
       "      <th>Age</th>\n",
       "    </tr>\n",
       "  </thead>\n",
       "  <tbody>\n",
       "    <tr>\n",
       "      <th>9807</th>\n",
       "      <td>1990.0</td>\n",
       "      <td>ORL</td>\n",
       "      <td>27.0</td>\n",
       "    </tr>\n",
       "    <tr>\n",
       "      <th>9808</th>\n",
       "      <td>1990.0</td>\n",
       "      <td>DEN</td>\n",
       "      <td>27.0</td>\n",
       "    </tr>\n",
       "    <tr>\n",
       "      <th>9809</th>\n",
       "      <td>1990.0</td>\n",
       "      <td>DET</td>\n",
       "      <td>30.0</td>\n",
       "    </tr>\n",
       "    <tr>\n",
       "      <th>9810</th>\n",
       "      <td>1990.0</td>\n",
       "      <td>SAC</td>\n",
       "      <td>30.0</td>\n",
       "    </tr>\n",
       "    <tr>\n",
       "      <th>9811</th>\n",
       "      <td>1990.0</td>\n",
       "      <td>WSB</td>\n",
       "      <td>26.0</td>\n",
       "    </tr>\n",
       "  </tbody>\n",
       "</table>\n",
       "</div>"
      ],
      "text/plain": [
       "        Year   Tm   Age\n",
       "9807  1990.0  ORL  27.0\n",
       "9808  1990.0  DEN  27.0\n",
       "9809  1990.0  DET  30.0\n",
       "9810  1990.0  SAC  30.0\n",
       "9811  1990.0  WSB  26.0"
      ]
     },
     "execution_count": 12,
     "metadata": {},
     "output_type": "execute_result"
    }
   ],
   "source": [
    "#Pulling years needed and making it a DF\n",
    "nba_year = nba_champion.loc[(nba_champion[\"Year\"]>= 1990)&(nba_champion[\"Year\"]<2019),[\"Year\",\"Tm\",\"Age\"]].copy()\n",
    "#[\"Year\",\"Tm\"]\n",
    "nba_year.head()"
   ]
  },
  {
   "cell_type": "code",
   "execution_count": 6,
   "metadata": {},
   "outputs": [
    {
     "data": {
      "text/html": [
       "<div>\n",
       "<style scoped>\n",
       "    .dataframe tbody tr th:only-of-type {\n",
       "        vertical-align: middle;\n",
       "    }\n",
       "\n",
       "    .dataframe tbody tr th {\n",
       "        vertical-align: top;\n",
       "    }\n",
       "\n",
       "    .dataframe thead th {\n",
       "        text-align: right;\n",
       "    }\n",
       "</style>\n",
       "<table border=\"1\" class=\"dataframe\">\n",
       "  <thead>\n",
       "    <tr style=\"text-align: right;\">\n",
       "      <th></th>\n",
       "      <th>Year</th>\n",
       "      <th>Winning team</th>\n",
       "      <th>Coach</th>\n",
       "      <th>Results</th>\n",
       "      <th>Losing team</th>\n",
       "      <th>Coach.1</th>\n",
       "    </tr>\n",
       "  </thead>\n",
       "  <tbody>\n",
       "    <tr>\n",
       "      <th>1</th>\n",
       "      <td>2018</td>\n",
       "      <td>Golden State Warriors</td>\n",
       "      <td>Steve Kerr</td>\n",
       "      <td>4–0</td>\n",
       "      <td>Cleveland Cavaliers</td>\n",
       "      <td>Tyronn Lue</td>\n",
       "    </tr>\n",
       "    <tr>\n",
       "      <th>2</th>\n",
       "      <td>2017</td>\n",
       "      <td>Golden State Warriors</td>\n",
       "      <td>Steve Kerr</td>\n",
       "      <td>4–1</td>\n",
       "      <td>Cleveland Cavaliers</td>\n",
       "      <td>Tyronn Lue</td>\n",
       "    </tr>\n",
       "    <tr>\n",
       "      <th>3</th>\n",
       "      <td>2016</td>\n",
       "      <td>Cleveland Cavaliers</td>\n",
       "      <td>Tyronn Lue</td>\n",
       "      <td>4–3</td>\n",
       "      <td>Golden State Warriors</td>\n",
       "      <td>Steve Kerr</td>\n",
       "    </tr>\n",
       "    <tr>\n",
       "      <th>4</th>\n",
       "      <td>2015</td>\n",
       "      <td>Golden State Warriors</td>\n",
       "      <td>Steve Kerr</td>\n",
       "      <td>4–2</td>\n",
       "      <td>Cleveland Cavaliers</td>\n",
       "      <td>David Blatt</td>\n",
       "    </tr>\n",
       "    <tr>\n",
       "      <th>5</th>\n",
       "      <td>2014</td>\n",
       "      <td>San Antonio Spurs</td>\n",
       "      <td>Gregg Popovich</td>\n",
       "      <td>4–1</td>\n",
       "      <td>Miami Heat</td>\n",
       "      <td>Erik Spoelstra</td>\n",
       "    </tr>\n",
       "  </tbody>\n",
       "</table>\n",
       "</div>"
      ],
      "text/plain": [
       "   Year           Winning team           Coach Results            Losing team  \\\n",
       "1  2018  Golden State Warriors      Steve Kerr     4–0    Cleveland Cavaliers   \n",
       "2  2017  Golden State Warriors      Steve Kerr     4–1    Cleveland Cavaliers   \n",
       "3  2016    Cleveland Cavaliers      Tyronn Lue     4–3  Golden State Warriors   \n",
       "4  2015  Golden State Warriors      Steve Kerr     4–2    Cleveland Cavaliers   \n",
       "5  2014      San Antonio Spurs  Gregg Popovich     4–1             Miami Heat   \n",
       "\n",
       "          Coach.1  \n",
       "1      Tyronn Lue  \n",
       "2      Tyronn Lue  \n",
       "3      Steve Kerr  \n",
       "4     David Blatt  \n",
       "5  Erik Spoelstra  "
      ]
     },
     "execution_count": 6,
     "metadata": {},
     "output_type": "execute_result"
    }
   ],
   "source": [
    "winning_by_years= winning_df.loc[(winning_df[\"Year\"]>= 1990)&(winning_df[\"Year\"]<2019),:].copy()\n",
    "winning_by_years.head()"
   ]
  },
  {
   "cell_type": "code",
   "execution_count": 13,
   "metadata": {},
   "outputs": [
    {
     "data": {
      "text/plain": [
       "26.739784946236558"
      ]
     },
     "execution_count": 13,
     "metadata": {},
     "output_type": "execute_result"
    }
   ],
   "source": [
    "#1990\n",
    "nba_1990champion = nba_champion.loc[nba_champion[\"Year\"] == 1990.0]\n",
    "nba_1990champion = nba_1990champion.loc[nba_1990champion[\"Tm\"] != \"DET\"]\n",
    "nba_1990champion = nba_1990champion[\"Age\"].mean()\n",
    "nba_1990champion"
   ]
  },
  {
   "cell_type": "code",
   "execution_count": 15,
   "metadata": {},
   "outputs": [
    {
     "data": {
      "text/plain": [
       "26.892857142857142"
      ]
     },
     "execution_count": 15,
     "metadata": {},
     "output_type": "execute_result"
    }
   ],
   "source": [
    "#1991\n",
    "nba_1991champion = nba_champion.loc[nba_champion[\"Year\"] == 1991.0]\n",
    "nba_1991champion = nba_1991champion.loc[nba_1991champion[\"Tm\"] != \"CHI\"]\n",
    "nba_1991champion = nba_1991champion[\"Age\"].mean()\n",
    "nba_1991champion"
   ]
  },
  {
   "cell_type": "code",
   "execution_count": 16,
   "metadata": {},
   "outputs": [
    {
     "data": {
      "text/plain": [
       "28.1875"
      ]
     },
     "execution_count": 16,
     "metadata": {},
     "output_type": "execute_result"
    }
   ],
   "source": [
    "#1992\n",
    "nba_1992champion = nba_champion.loc[nba_champion[\"Year\"] == 1992.0]\n",
    "nba_1992champion = nba_1992champion.loc[nba_1992champion[\"Tm\"] != \"CHI\"]\n",
    "nba_1992champion = nba_1992champion[\"Age\"].mean()\n",
    "nba_1992champion"
   ]
  },
  {
   "cell_type": "code",
   "execution_count": 18,
   "metadata": {},
   "outputs": [
    {
     "data": {
      "text/plain": [
       "27.764705882352942"
      ]
     },
     "execution_count": 18,
     "metadata": {},
     "output_type": "execute_result"
    }
   ],
   "source": [
    "#1993\n",
    "nba_1993champion = nba_champion.loc[nba_champion[\"Year\"] == 1993.0]\n",
    "nba_1993champion = nba_1993champion.loc[nba_1993champion[\"Tm\"] != \"CHI\"]\n",
    "nba_1993champion = nba_1993champion[\"Age\"].mean()\n",
    "nba_1993champion"
   ]
  },
  {
   "cell_type": "code",
   "execution_count": 43,
   "metadata": {},
   "outputs": [
    {
     "data": {
      "text/plain": [
       "27.333333333333332"
      ]
     },
     "execution_count": 43,
     "metadata": {},
     "output_type": "execute_result"
    }
   ],
   "source": [
    "#1994\n",
    "nba_1994champion = nba_champion.loc[nba_champion[\"Year\"] == 1994.0]\n",
    "nba_1994champion = nba_1994champion.loc[nba_1994champion[\"Tm\"] != \"HOU\"]\n",
    "nba_1994champion = nba_1994champion[\"Age\"].mean()\n",
    "nba_1994champion"
   ]
  },
  {
   "cell_type": "code",
   "execution_count": 42,
   "metadata": {},
   "outputs": [
    {
     "data": {
      "text/plain": [
       "29.105263157894736"
      ]
     },
     "execution_count": 42,
     "metadata": {},
     "output_type": "execute_result"
    }
   ],
   "source": [
    "#1995\n",
    "nba_1995champion = nba_champion.loc[nba_champion[\"Year\"] == 1995.0]\n",
    "nba_1995champion = nba_1995champion.loc[nba_1995champion[\"Tm\"] != \"HOU\"]\n",
    "nba_1995champion = nba_1995champion[\"Age\"].mean()\n",
    "nba_1995champion"
   ]
  },
  {
   "cell_type": "code",
   "execution_count": 77,
   "metadata": {},
   "outputs": [
    {
     "data": {
      "text/plain": [
       "27.431159420289855"
      ]
     },
     "execution_count": 77,
     "metadata": {},
     "output_type": "execute_result"
    }
   ],
   "source": [
    "#1996\n",
    "nba_1996champion = nba_champion.loc[nba_champion[\"Year\"] == 1996.0]\n",
    "nba_1996champion = nba_1996champion.loc[nba_1996champion[\"Tm\"] != \"CHI\"]\n",
    "nba_1996champion = nba_1996champion[\"Age\"].mean()\n",
    "nba_1996champion"
   ]
  },
  {
   "cell_type": "code",
   "execution_count": 76,
   "metadata": {},
   "outputs": [
    {
     "data": {
      "text/plain": [
       "27.48353552859619"
      ]
     },
     "execution_count": 76,
     "metadata": {},
     "output_type": "execute_result"
    }
   ],
   "source": [
    "#1997\n",
    "nba_1997champion = nba_champion.loc[nba_champion[\"Year\"] == 1997.0]\n",
    "nba_1997champion = nba_1997champion.loc[nba_1997champion[\"Tm\"] != \"CHI\"]\n",
    "nba_1997champion = nba_1997champion[\"Age\"].mean()\n",
    "nba_1997champion"
   ]
  },
  {
   "cell_type": "code",
   "execution_count": 75,
   "metadata": {},
   "outputs": [
    {
     "data": {
      "text/plain": [
       "27.382671480144403"
      ]
     },
     "execution_count": 75,
     "metadata": {},
     "output_type": "execute_result"
    }
   ],
   "source": [
    "#1998\n",
    "nba_1998champion = nba_champion.loc[nba_champion[\"Year\"] == 1998.0]\n",
    "nba_1998champion = nba_1998champion.loc[nba_1998champion[\"Tm\"] != \"CHI\"]\n",
    "nba_1998champion = nba_1998champion[\"Age\"].mean()\n",
    "nba_1998champion"
   ]
  },
  {
   "cell_type": "code",
   "execution_count": 74,
   "metadata": {},
   "outputs": [
    {
     "data": {
      "text/plain": [
       "27.40828402366864"
      ]
     },
     "execution_count": 74,
     "metadata": {},
     "output_type": "execute_result"
    }
   ],
   "source": [
    "#1999\n",
    "nba_1999champion = nba_champion.loc[nba_champion[\"Year\"] == 1999.0]\n",
    "nba_1999champion = nba_1999champion.loc[nba_1999champion[\"Tm\"] != \"SAS\"]\n",
    "nba_1999champion = nba_1999champion[\"Age\"].mean()\n",
    "nba_1999champion"
   ]
  },
  {
   "cell_type": "code",
   "execution_count": 73,
   "metadata": {},
   "outputs": [
    {
     "data": {
      "text/plain": [
       "27.60612244897959"
      ]
     },
     "execution_count": 73,
     "metadata": {},
     "output_type": "execute_result"
    }
   ],
   "source": [
    "#2000\n",
    "nba_2000champion = nba_champion.loc[nba_champion[\"Year\"] == 2000.0]\n",
    "nba_2000champion = nba_2000champion.loc[nba_2000champion[\"Tm\"] != \"LAL\"]\n",
    "nba_2000champion = nba_2000champion[\"Age\"].mean()\n",
    "nba_2000champion"
   ]
  },
  {
   "cell_type": "code",
   "execution_count": 72,
   "metadata": {},
   "outputs": [
    {
     "data": {
      "text/plain": [
       "27.886578449905482"
      ]
     },
     "execution_count": 72,
     "metadata": {},
     "output_type": "execute_result"
    }
   ],
   "source": [
    "#2001\n",
    "nba_2001champion = nba_champion.loc[nba_champion[\"Year\"] == 2001.0]\n",
    "nba_2001champion = nba_2001champion.loc[nba_2001champion[\"Tm\"] != \"LAL\"]\n",
    "nba_2001champion = nba_2001champion[\"Age\"].mean()\n",
    "nba_2001champion"
   ]
  },
  {
   "cell_type": "code",
   "execution_count": 69,
   "metadata": {},
   "outputs": [
    {
     "data": {
      "text/plain": [
       "27.294949494949496"
      ]
     },
     "execution_count": 69,
     "metadata": {},
     "output_type": "execute_result"
    }
   ],
   "source": [
    "#2002\n",
    "nba_2002champion = nba_champion.loc[nba_champion[\"Year\"] == 2002.0]\n",
    "nba_2002champion = nba_2002champion.loc[nba_2002champion[\"Tm\"] != \"LAL\"]\n",
    "nba_2002champion = nba_2002champion[\"Age\"].mean()\n",
    "nba_2002champion"
   ]
  },
  {
   "cell_type": "code",
   "execution_count": 70,
   "metadata": {},
   "outputs": [
    {
     "data": {
      "text/plain": [
       "27.08823529411765"
      ]
     },
     "execution_count": 70,
     "metadata": {},
     "output_type": "execute_result"
    }
   ],
   "source": [
    "#2003\n",
    "nba_2003champion = nba_champion.loc[nba_champion[\"Year\"] == 2003.0]\n",
    "nba_2003champion = nba_2003champion.loc[nba_2003champion[\"Tm\"] != \"SAS\"]\n",
    "nba_2003champion = nba_2003champion[\"Age\"].mean()\n",
    "nba_2003champion"
   ]
  },
  {
   "cell_type": "code",
   "execution_count": 64,
   "metadata": {},
   "outputs": [
    {
     "data": {
      "text/plain": [
       "27.228621291448516"
      ]
     },
     "execution_count": 64,
     "metadata": {},
     "output_type": "execute_result"
    }
   ],
   "source": [
    "#2004\n",
    "nba_2004champion = nba_champion.loc[nba_champion[\"Year\"] == 2004.0]\n",
    "nba_2004champion = nba_2004champion.loc[nba_2004champion[\"Tm\"] != \"DET\"]\n",
    "nba_2004champion = nba_2004champion[\"Age\"].mean()\n",
    "nba_2004champion"
   ]
  },
  {
   "cell_type": "code",
   "execution_count": 60,
   "metadata": {},
   "outputs": [
    {
     "data": {
      "text/plain": [
       "27.170731707317074"
      ]
     },
     "execution_count": 60,
     "metadata": {},
     "output_type": "execute_result"
    }
   ],
   "source": [
    "#2005\n",
    "nba_2005champion = nba_champion.loc[nba_champion[\"Year\"] == 2005.0]\n",
    "nba_2005champion = nba_2005champion.loc[nba_2005champion[\"Tm\"] != \"SAS\"]\n",
    "nba_2005champion = nba_2005champion[\"Age\"].mean()\n",
    "nba_2005champion"
   ]
  },
  {
   "cell_type": "code",
   "execution_count": 59,
   "metadata": {},
   "outputs": [
    {
     "data": {
      "text/plain": [
       "26.654676258992804"
      ]
     },
     "execution_count": 59,
     "metadata": {},
     "output_type": "execute_result"
    }
   ],
   "source": [
    "#2006\n",
    "nba_2006champion = nba_champion.loc[nba_champion[\"Year\"] == 2006.0]\n",
    "nba_2006champion = nba_2006champion.loc[nba_2006champion[\"Tm\"] != \"MIA\"]\n",
    "nba_2006champion = nba_2006champion[\"Age\"].mean()\n",
    "nba_2006champion"
   ]
  },
  {
   "cell_type": "code",
   "execution_count": 57,
   "metadata": {},
   "outputs": [
    {
     "data": {
      "text/plain": [
       "26.416829745596868"
      ]
     },
     "execution_count": 57,
     "metadata": {},
     "output_type": "execute_result"
    }
   ],
   "source": [
    "#2007\n",
    "nba_2007champion = nba_champion.loc[nba_champion[\"Year\"] == 2007.0]\n",
    "nba_2007champion = nba_2007champion.loc[nba_2007champion[\"Tm\"] != \"SAS\"]\n",
    "nba_2007champion = nba_2007champion[\"Age\"].mean()\n",
    "nba_2007champion"
   ]
  },
  {
   "cell_type": "code",
   "execution_count": 56,
   "metadata": {},
   "outputs": [
    {
     "data": {
      "text/plain": [
       "26.895973154362416"
      ]
     },
     "execution_count": 56,
     "metadata": {},
     "output_type": "execute_result"
    }
   ],
   "source": [
    "#2008\n",
    "nba_2008champion = nba_champion.loc[nba_champion[\"Year\"] == 2008.0]\n",
    "nba_2008champion = nba_2008champion.loc[nba_2008champion[\"Tm\"] != \"BOS\"]\n",
    "nba_2008champion = nba_2008champion[\"Age\"].mean()\n",
    "nba_2008champion"
   ]
  },
  {
   "cell_type": "code",
   "execution_count": 55,
   "metadata": {},
   "outputs": [
    {
     "data": {
      "text/plain": [
       "26.76909722222222"
      ]
     },
     "execution_count": 55,
     "metadata": {},
     "output_type": "execute_result"
    }
   ],
   "source": [
    "#2009\n",
    "nba_2009champion = nba_champion.loc[nba_champion[\"Year\"] == 2009.0]\n",
    "nba_2009champion = nba_2009champion.loc[nba_2009champion[\"Tm\"] != \"LAL\"]\n",
    "nba_2009champion = nba_2009champion[\"Age\"].mean()\n",
    "nba_2009champion"
   ]
  },
  {
   "cell_type": "code",
   "execution_count": 54,
   "metadata": {},
   "outputs": [
    {
     "data": {
      "text/plain": [
       "26.739054290718038"
      ]
     },
     "execution_count": 54,
     "metadata": {},
     "output_type": "execute_result"
    }
   ],
   "source": [
    "#2010\n",
    "nba_2010champion = nba_champion.loc[nba_champion[\"Year\"] == 2010.0]\n",
    "nba_2010champion = nba_2010champion.loc[nba_2010champion[\"Tm\"] != \"LAL\"]\n",
    "nba_2010champion = nba_2010champion[\"Age\"].mean()\n",
    "nba_2010champion"
   ]
  },
  {
   "cell_type": "code",
   "execution_count": 53,
   "metadata": {},
   "outputs": [
    {
     "data": {
      "text/plain": [
       "26.671544715447155"
      ]
     },
     "execution_count": 53,
     "metadata": {},
     "output_type": "execute_result"
    }
   ],
   "source": [
    "#2011\n",
    "nba_2011champion = nba_champion.loc[nba_champion[\"Year\"] == 2011.0]\n",
    "nba_2011champion = nba_2011champion.loc[nba_2011champion[\"Tm\"] != \"DAL\"]\n",
    "nba_2011champion = nba_2011champion[\"Age\"].mean()\n",
    "nba_2011champion"
   ]
  },
  {
   "cell_type": "code",
   "execution_count": 52,
   "metadata": {},
   "outputs": [
    {
     "data": {
      "text/plain": [
       "26.584249084249084"
      ]
     },
     "execution_count": 52,
     "metadata": {},
     "output_type": "execute_result"
    }
   ],
   "source": [
    "#2012\n",
    "nba_2012champion = nba_champion.loc[nba_champion[\"Year\"] == 2012.0]\n",
    "nba_2012champion = nba_2012champion.loc[nba_2012champion[\"Tm\"] != \"MIA\"]\n",
    "nba_2012champion = nba_2012champion[\"Age\"].mean()\n",
    "nba_2012champion"
   ]
  },
  {
   "cell_type": "code",
   "execution_count": 51,
   "metadata": {},
   "outputs": [
    {
     "data": {
      "text/plain": [
       "26.43971631205674"
      ]
     },
     "execution_count": 51,
     "metadata": {},
     "output_type": "execute_result"
    }
   ],
   "source": [
    "#2013\n",
    "nba_2013champion = nba_champion.loc[nba_champion[\"Year\"] == 2013.0]\n",
    "nba_2013champion = nba_2013champion.loc[nba_2013champion[\"Tm\"] != \"MIA\"]\n",
    "nba_2013champion = nba_2013champion[\"Age\"].mean()\n",
    "nba_2013champion"
   ]
  },
  {
   "cell_type": "code",
   "execution_count": 50,
   "metadata": {},
   "outputs": [
    {
     "data": {
      "text/plain": [
       "26.421487603305785"
      ]
     },
     "execution_count": 50,
     "metadata": {},
     "output_type": "execute_result"
    }
   ],
   "source": [
    "#2014\n",
    "nba_2014champion = nba_champion.loc[nba_champion[\"Year\"] == 2014.0]\n",
    "nba_2014champion = nba_2014champion.loc[nba_2014champion[\"Tm\"] != \"SAS\"]\n",
    "nba_2014champion = nba_2014champion[\"Age\"].mean()\n",
    "nba_2014champion"
   ]
  },
  {
   "cell_type": "code",
   "execution_count": 49,
   "metadata": {},
   "outputs": [
    {
     "data": {
      "text/plain": [
       "26.450769230769232"
      ]
     },
     "execution_count": 49,
     "metadata": {},
     "output_type": "execute_result"
    }
   ],
   "source": [
    "#2015\n",
    "nba_2015champion = nba_champion.loc[nba_champion[\"Year\"] == 2015.0]\n",
    "nba_2015champion = nba_2015champion.loc[nba_2015champion[\"Tm\"] != \"GSW\"]\n",
    "nba_2015champion = nba_2015champion[\"Age\"].mean()\n",
    "nba_2015champion"
   ]
  },
  {
   "cell_type": "code",
   "execution_count": 48,
   "metadata": {},
   "outputs": [
    {
     "data": {
      "text/plain": [
       "26.775438596491227"
      ]
     },
     "execution_count": 48,
     "metadata": {},
     "output_type": "execute_result"
    }
   ],
   "source": [
    "#2016\n",
    "nba_2016champion = nba_champion.loc[nba_champion[\"Year\"] == 2016.0]\n",
    "nba_2016champion = nba_2016champion.loc[nba_2016champion[\"Tm\"] != \"CLE\"]\n",
    "nba_2016champion = nba_2016champion[\"Age\"].mean()\n",
    "nba_2016champion"
   ]
  },
  {
   "cell_type": "code",
   "execution_count": 45,
   "metadata": {},
   "outputs": [
    {
     "data": {
      "text/plain": [
       "26.416666666666668"
      ]
     },
     "execution_count": 45,
     "metadata": {},
     "output_type": "execute_result"
    }
   ],
   "source": [
    "#2017\n",
    "nba_2017champion = nba_champion.loc[nba_champion[\"Year\"] == 2017.0]\n",
    "nba_2017champion = nba_2017champion.loc[nba_2017champion[\"Tm\"] != \"GSW\"]\n",
    "nba_2017champion = nba_2017champion[\"Age\"].mean()\n",
    "nba_2017champion"
   ]
  },
  {
   "cell_type": "code",
   "execution_count": 71,
   "metadata": {},
   "outputs": [
    {
     "data": {
      "text/plain": [
       "nan"
      ]
     },
     "execution_count": 71,
     "metadata": {},
     "output_type": "execute_result"
    }
   ],
   "source": [
    "#2018\n",
    "nba_2018champion = nba_champion.loc[nba_champion[\"Year\"] == 2018.0]\n",
    "nba_2018champion = nba_2018champion.loc[nba_2018champion[\"Tm\"] != \"GSW\"]\n",
    "nba_2018champion = nba_2018champion[\"Age\"].mean()\n",
    "nba_2018champion"
   ]
  },
  {
   "cell_type": "code",
   "execution_count": 79,
   "metadata": {},
   "outputs": [
    {
     "ename": "TypeError",
     "evalue": "Can only merge Series or DataFrame objects, a <class 'float'> was passed",
     "output_type": "error",
     "traceback": [
      "\u001b[1;31m---------------------------------------------------------------------------\u001b[0m",
      "\u001b[1;31mTypeError\u001b[0m                                 Traceback (most recent call last)",
      "\u001b[1;32m<ipython-input-79-1f875fe6c4ea>\u001b[0m in \u001b[0;36m<module>\u001b[1;34m\u001b[0m\n\u001b[0;32m      1\u001b[0m \u001b[1;31m#Creating a DF with non-champs\u001b[0m\u001b[1;33m\u001b[0m\u001b[1;33m\u001b[0m\u001b[1;33m\u001b[0m\u001b[0m\n\u001b[1;32m----> 2\u001b[1;33m \u001b[0mcombined1\u001b[0m \u001b[1;33m=\u001b[0m \u001b[0mpd\u001b[0m\u001b[1;33m.\u001b[0m\u001b[0mmerge\u001b[0m\u001b[1;33m(\u001b[0m\u001b[0mnba_1990champion\u001b[0m\u001b[1;33m,\u001b[0m \u001b[0mnba_1991champion\u001b[0m\u001b[1;33m,\u001b[0m \u001b[0mhow\u001b[0m\u001b[1;33m=\u001b[0m\u001b[1;34m'outer'\u001b[0m\u001b[1;33m)\u001b[0m\u001b[1;33m\u001b[0m\u001b[1;33m\u001b[0m\u001b[0m\n\u001b[0m\u001b[0;32m      3\u001b[0m \u001b[1;31m# combined2 = pd.merge(combined1, nba_1992champion, how='outer')\u001b[0m\u001b[1;33m\u001b[0m\u001b[1;33m\u001b[0m\u001b[1;33m\u001b[0m\u001b[0m\n\u001b[0;32m      4\u001b[0m \u001b[1;31m# combined3 = pd.merge(combined2, nba_1993champion, how='outer')\u001b[0m\u001b[1;33m\u001b[0m\u001b[1;33m\u001b[0m\u001b[1;33m\u001b[0m\u001b[0m\n\u001b[0;32m      5\u001b[0m \u001b[1;31m# combined4 = pd.merge(combined3, nba_1994champion, how='outer')\u001b[0m\u001b[1;33m\u001b[0m\u001b[1;33m\u001b[0m\u001b[1;33m\u001b[0m\u001b[0m\n",
      "\u001b[1;32m~\\Anaconda3\\lib\\site-packages\\pandas\\core\\reshape\\merge.py\u001b[0m in \u001b[0;36mmerge\u001b[1;34m(left, right, how, on, left_on, right_on, left_index, right_index, sort, suffixes, copy, indicator, validate)\u001b[0m\n\u001b[0;32m     45\u001b[0m                          \u001b[0mright_index\u001b[0m\u001b[1;33m=\u001b[0m\u001b[0mright_index\u001b[0m\u001b[1;33m,\u001b[0m \u001b[0msort\u001b[0m\u001b[1;33m=\u001b[0m\u001b[0msort\u001b[0m\u001b[1;33m,\u001b[0m \u001b[0msuffixes\u001b[0m\u001b[1;33m=\u001b[0m\u001b[0msuffixes\u001b[0m\u001b[1;33m,\u001b[0m\u001b[1;33m\u001b[0m\u001b[1;33m\u001b[0m\u001b[0m\n\u001b[0;32m     46\u001b[0m                          \u001b[0mcopy\u001b[0m\u001b[1;33m=\u001b[0m\u001b[0mcopy\u001b[0m\u001b[1;33m,\u001b[0m \u001b[0mindicator\u001b[0m\u001b[1;33m=\u001b[0m\u001b[0mindicator\u001b[0m\u001b[1;33m,\u001b[0m\u001b[1;33m\u001b[0m\u001b[1;33m\u001b[0m\u001b[0m\n\u001b[1;32m---> 47\u001b[1;33m                          validate=validate)\n\u001b[0m\u001b[0;32m     48\u001b[0m     \u001b[1;32mreturn\u001b[0m \u001b[0mop\u001b[0m\u001b[1;33m.\u001b[0m\u001b[0mget_result\u001b[0m\u001b[1;33m(\u001b[0m\u001b[1;33m)\u001b[0m\u001b[1;33m\u001b[0m\u001b[1;33m\u001b[0m\u001b[0m\n\u001b[0;32m     49\u001b[0m \u001b[1;33m\u001b[0m\u001b[0m\n",
      "\u001b[1;32m~\\Anaconda3\\lib\\site-packages\\pandas\\core\\reshape\\merge.py\u001b[0m in \u001b[0;36m__init__\u001b[1;34m(self, left, right, how, on, left_on, right_on, axis, left_index, right_index, sort, suffixes, copy, indicator, validate)\u001b[0m\n\u001b[0;32m    477\u001b[0m                  \u001b[0msuffixes\u001b[0m\u001b[1;33m=\u001b[0m\u001b[1;33m(\u001b[0m\u001b[1;34m'_x'\u001b[0m\u001b[1;33m,\u001b[0m \u001b[1;34m'_y'\u001b[0m\u001b[1;33m)\u001b[0m\u001b[1;33m,\u001b[0m \u001b[0mcopy\u001b[0m\u001b[1;33m=\u001b[0m\u001b[1;32mTrue\u001b[0m\u001b[1;33m,\u001b[0m \u001b[0mindicator\u001b[0m\u001b[1;33m=\u001b[0m\u001b[1;32mFalse\u001b[0m\u001b[1;33m,\u001b[0m\u001b[1;33m\u001b[0m\u001b[1;33m\u001b[0m\u001b[0m\n\u001b[0;32m    478\u001b[0m                  validate=None):\n\u001b[1;32m--> 479\u001b[1;33m         \u001b[0mleft\u001b[0m \u001b[1;33m=\u001b[0m \u001b[0mvalidate_operand\u001b[0m\u001b[1;33m(\u001b[0m\u001b[0mleft\u001b[0m\u001b[1;33m)\u001b[0m\u001b[1;33m\u001b[0m\u001b[1;33m\u001b[0m\u001b[0m\n\u001b[0m\u001b[0;32m    480\u001b[0m         \u001b[0mright\u001b[0m \u001b[1;33m=\u001b[0m \u001b[0mvalidate_operand\u001b[0m\u001b[1;33m(\u001b[0m\u001b[0mright\u001b[0m\u001b[1;33m)\u001b[0m\u001b[1;33m\u001b[0m\u001b[1;33m\u001b[0m\u001b[0m\n\u001b[0;32m    481\u001b[0m         \u001b[0mself\u001b[0m\u001b[1;33m.\u001b[0m\u001b[0mleft\u001b[0m \u001b[1;33m=\u001b[0m \u001b[0mself\u001b[0m\u001b[1;33m.\u001b[0m\u001b[0morig_left\u001b[0m \u001b[1;33m=\u001b[0m \u001b[0mleft\u001b[0m\u001b[1;33m\u001b[0m\u001b[1;33m\u001b[0m\u001b[0m\n",
      "\u001b[1;32m~\\Anaconda3\\lib\\site-packages\\pandas\\core\\reshape\\merge.py\u001b[0m in \u001b[0;36mvalidate_operand\u001b[1;34m(obj)\u001b[0m\n\u001b[0;32m   1750\u001b[0m     \u001b[1;32melse\u001b[0m\u001b[1;33m:\u001b[0m\u001b[1;33m\u001b[0m\u001b[1;33m\u001b[0m\u001b[0m\n\u001b[0;32m   1751\u001b[0m         raise TypeError('Can only merge Series or DataFrame objects, '\n\u001b[1;32m-> 1752\u001b[1;33m                         'a {obj} was passed'.format(obj=type(obj)))\n\u001b[0m",
      "\u001b[1;31mTypeError\u001b[0m: Can only merge Series or DataFrame objects, a <class 'float'> was passed"
     ]
    }
   ],
   "source": [
    "#Creating a DF with non-champs\n",
    "combined1 = pd.merge(nba_1990champion, nba_1991champion, how='outer')\n",
    "# combined2 = pd.merge(combined1, nba_1992champion, how='outer')\n",
    "# combined3 = pd.merge(combined2, nba_1993champion, how='outer')\n",
    "# combined4 = pd.merge(combined3, nba_1994champion, how='outer')\n",
    "# combined5 = pd.merge(combined4, nba_1995champion, how='outer')\n",
    "# combined6 = pd.merge(combined5, nba_1996champion, how='outer')\n",
    "# combined7 = pd.merge(combined6, nba_1997champion, how='outer')\n",
    "# combined8 = pd.merge(combined7, nba_1998champion, how='outer')\n",
    "# combined9 = pd.merge(combined8, nba_1999champion, how='outer')\n",
    "# combined10 = pd.merge(combined9, nba_2000champion, how='outer')\n",
    "# combined11 = pd.merge(combined10, nba_2001champion, how='outer')\n",
    "# combined12 = pd.merge(combined11, nba_2002champion, how='outer')\n",
    "# combined13 = pd.merge(combined12, nba_2003champion, how='outer')\n",
    "# combined14 = pd.merge(combined13, nba_2004champion, how='outer')\n",
    "# combined15 = pd.merge(combined14, nba_2005champion, how='outer')\n",
    "# combined16 = pd.merge(combined15, nba_2006champion, how='outer')\n",
    "# combined17 = pd.merge(combined16, nba_2007champion, how='outer')\n",
    "# combined18 = pd.merge(combined17, nba_2008champion, how='outer')\n",
    "# combined19 = pd.merge(combined18, nba_2009champion, how='outer')\n",
    "# combined20 = pd.merge(combined19, nba_2010champion, how='outer')\n",
    "# combined21 = pd.merge(combined20, nba_2011champion, how='outer')\n",
    "# combined22 = pd.merge(combined21, nba_2012champion, how='outer')\n",
    "# combined23 = pd.merge(combined22, nba_2013champion, how='outer')\n",
    "# combined24 = pd.merge(combined23, nba_2014champion, how='outer')\n",
    "# combined25 = pd.merge(combined24, nba_2015champion, how='outer')\n",
    "# combined26 = pd.merge(combined25, nba_2016champion, how='outer')\n",
    "# combined27 = pd.merge(combined26, nba_2017champion, how='outer')\n",
    "# combined28 = pd.merge(combined27, nba_2018champion, how='outer')b\n"
   ]
  },
  {
   "cell_type": "code",
   "execution_count": null,
   "metadata": {},
   "outputs": [],
   "source": []
  }
 ],
 "metadata": {
  "kernelspec": {
   "display_name": "Python 3",
   "language": "python",
   "name": "python3"
  },
  "language_info": {
   "codemirror_mode": {
    "name": "ipython",
    "version": 3
   },
   "file_extension": ".py",
   "mimetype": "text/x-python",
   "name": "python",
   "nbconvert_exporter": "python",
   "pygments_lexer": "ipython3",
   "version": "3.7.3"
  }
 },
 "nbformat": 4,
 "nbformat_minor": 2
}
