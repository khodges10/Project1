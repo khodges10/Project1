{
 "cells": [
  {
   "cell_type": "code",
   "execution_count": 210,
   "metadata": {},
   "outputs": [],
   "source": [
    "%matplotlib notebook\n",
    "import matplotlib.pyplot as plt\n",
    "import pandas as pd\n",
    "import numpy as np"
   ]
  },
  {
   "cell_type": "code",
   "execution_count": 211,
   "metadata": {},
   "outputs": [],
   "source": [
    "nba_seasondata = \"Data/Seasons_Stats.csv\"\n",
    "nba_player = \"Data/player_data.csv\"\n",
    "\n",
    "nba_data1 = pd.read_csv(nba_seasondata)\n",
    "nba_data2 = pd.read_csv(nba_player)"
   ]
  },
  {
   "cell_type": "code",
   "execution_count": 212,
   "metadata": {},
   "outputs": [],
   "source": [
    "nba_data2.head()\n",
    "nba_data2 = nba_data2.rename(columns = {\"name\":\"Player\"})"
   ]
  },
  {
   "cell_type": "code",
   "execution_count": 213,
   "metadata": {},
   "outputs": [
    {
     "data": {
      "text/plain": [
       "Index(['Unnamed: 0', 'Year', 'Player', 'Pos', 'Age', 'Tm', 'G', 'GS', 'MP',\n",
       "       'PER', 'TS%', '3PAr', 'FTr', 'ORB%', 'DRB%', 'TRB%', 'AST%', 'STL%',\n",
       "       'BLK%', 'TOV%', 'USG%', 'blanl', 'OWS', 'DWS', 'WS', 'WS/48', 'blank2',\n",
       "       'OBPM', 'DBPM', 'BPM', 'VORP', 'FG', 'FGA', 'FG%', '3P', '3PA', '3P%',\n",
       "       '2P', '2PA', '2P%', 'eFG%', 'FT', 'FTA', 'FT%', 'ORB', 'DRB', 'TRB',\n",
       "       'AST', 'STL', 'BLK', 'TOV', 'PF', 'PTS', 'year_start', 'year_end',\n",
       "       'position', 'height', 'weight', 'birth_date', 'college'],\n",
       "      dtype='object')"
      ]
     },
     "execution_count": 213,
     "metadata": {},
     "output_type": "execute_result"
    }
   ],
   "source": [
    "nba_dataset = pd.merge(nba_data1, nba_data2, how='left',on='Player')\n",
    "nba_dataset.head()\n",
    "nba_dataset.columns"
   ]
  },
  {
   "cell_type": "code",
   "execution_count": 214,
   "metadata": {},
   "outputs": [
    {
     "data": {
      "text/html": [
       "<div>\n",
       "<style scoped>\n",
       "    .dataframe tbody tr th:only-of-type {\n",
       "        vertical-align: middle;\n",
       "    }\n",
       "\n",
       "    .dataframe tbody tr th {\n",
       "        vertical-align: top;\n",
       "    }\n",
       "\n",
       "    .dataframe thead th {\n",
       "        text-align: right;\n",
       "    }\n",
       "</style>\n",
       "<table border=\"1\" class=\"dataframe\">\n",
       "  <thead>\n",
       "    <tr style=\"text-align: right;\">\n",
       "      <th></th>\n",
       "      <th>Year</th>\n",
       "      <th>Player</th>\n",
       "      <th>Tm</th>\n",
       "      <th>Age</th>\n",
       "      <th>Pos</th>\n",
       "      <th>college</th>\n",
       "    </tr>\n",
       "  </thead>\n",
       "  <tbody>\n",
       "    <tr>\n",
       "      <th>0</th>\n",
       "      <td>1950.0</td>\n",
       "      <td>Curly Armstrong</td>\n",
       "      <td>FTW</td>\n",
       "      <td>31.0</td>\n",
       "      <td>G-F</td>\n",
       "      <td>Indiana University</td>\n",
       "    </tr>\n",
       "    <tr>\n",
       "      <th>1</th>\n",
       "      <td>1950.0</td>\n",
       "      <td>Cliff Barker</td>\n",
       "      <td>INO</td>\n",
       "      <td>29.0</td>\n",
       "      <td>SG</td>\n",
       "      <td>University of Kentucky</td>\n",
       "    </tr>\n",
       "    <tr>\n",
       "      <th>2</th>\n",
       "      <td>1950.0</td>\n",
       "      <td>Leo Barnhorst</td>\n",
       "      <td>CHS</td>\n",
       "      <td>25.0</td>\n",
       "      <td>SF</td>\n",
       "      <td>University of Notre Dame</td>\n",
       "    </tr>\n",
       "    <tr>\n",
       "      <th>3</th>\n",
       "      <td>1950.0</td>\n",
       "      <td>Ed Bartels</td>\n",
       "      <td>TOT</td>\n",
       "      <td>24.0</td>\n",
       "      <td>F</td>\n",
       "      <td>North Carolina State University</td>\n",
       "    </tr>\n",
       "    <tr>\n",
       "      <th>4</th>\n",
       "      <td>1950.0</td>\n",
       "      <td>Ed Bartels</td>\n",
       "      <td>DNN</td>\n",
       "      <td>24.0</td>\n",
       "      <td>F</td>\n",
       "      <td>North Carolina State University</td>\n",
       "    </tr>\n",
       "  </tbody>\n",
       "</table>\n",
       "</div>"
      ],
      "text/plain": [
       "     Year           Player   Tm   Age  Pos                          college\n",
       "0  1950.0  Curly Armstrong  FTW  31.0  G-F               Indiana University\n",
       "1  1950.0     Cliff Barker  INO  29.0   SG           University of Kentucky\n",
       "2  1950.0    Leo Barnhorst  CHS  25.0   SF         University of Notre Dame\n",
       "3  1950.0       Ed Bartels  TOT  24.0    F  North Carolina State University\n",
       "4  1950.0       Ed Bartels  DNN  24.0    F  North Carolina State University"
      ]
     },
     "execution_count": 214,
     "metadata": {},
     "output_type": "execute_result"
    }
   ],
   "source": [
    "nba_champion = nba_dataset[[\"Year\", \"Player\", \"Tm\", \"Age\", \"Pos\", \"college\"]]\n",
    "nba_champion.head()"
   ]
  },
  {
   "cell_type": "code",
   "execution_count": 215,
   "metadata": {},
   "outputs": [],
   "source": [
    "nba_1990champion = nba_champion.loc[nba_champion[\"Year\"] == 1990.0]\n",
    "nba_1990champion = nba_1990champion.loc[nba_1990champion[\"Tm\"] != \"DET\"]"
   ]
  },
  {
   "cell_type": "code",
   "execution_count": 216,
   "metadata": {},
   "outputs": [],
   "source": [
    "nba_1991champion = nba_champion.loc[nba_champion[\"Year\"] == 1991.0]\n",
    "nba_1991champion = nba_1991champion.loc[nba_1991champion[\"Tm\"] == \"CHI\"]"
   ]
  },
  {
   "cell_type": "code",
   "execution_count": 217,
   "metadata": {},
   "outputs": [],
   "source": [
    "combined1 = pd.merge(nba_1990champion, nba_1991champion, how='outer')"
   ]
  },
  {
   "cell_type": "code",
   "execution_count": 218,
   "metadata": {},
   "outputs": [],
   "source": [
    "nba_1992champion = nba_champion.loc[nba_champion[\"Year\"] == 1992.0]\n",
    "nba_1992champion = nba_1992champion.loc[nba_1992champion[\"Tm\"] == \"CHI\"]"
   ]
  },
  {
   "cell_type": "code",
   "execution_count": 219,
   "metadata": {},
   "outputs": [],
   "source": [
    "combined2 = pd.merge(combined1, nba_1992champion, how='outer')"
   ]
  },
  {
   "cell_type": "code",
   "execution_count": 220,
   "metadata": {},
   "outputs": [],
   "source": [
    "nba_1993champion = nba_champion.loc[nba_champion[\"Year\"] == 1993.0]\n",
    "nba_1993champion = nba_1993champion.loc[nba_1993champion[\"Tm\"] == \"CHI\"]"
   ]
  },
  {
   "cell_type": "code",
   "execution_count": 221,
   "metadata": {},
   "outputs": [],
   "source": [
    "combined3 = pd.merge(combined2, nba_1993champion, how='outer')"
   ]
  },
  {
   "cell_type": "code",
   "execution_count": 222,
   "metadata": {},
   "outputs": [],
   "source": [
    "nba_1994champion = nba_champion.loc[nba_champion[\"Year\"] == 1994.0]\n",
    "nba_1994champion = nba_1994champion.loc[nba_1994champion[\"Tm\"] == \"HOU\"]"
   ]
  },
  {
   "cell_type": "code",
   "execution_count": 223,
   "metadata": {},
   "outputs": [],
   "source": [
    "combined4 = pd.merge(combined3, nba_1994champion, how='outer')"
   ]
  },
  {
   "cell_type": "code",
   "execution_count": 224,
   "metadata": {},
   "outputs": [],
   "source": [
    "nba_1995champion = nba_champion.loc[nba_champion[\"Year\"] == 1995.0]\n",
    "nba_1995champion = nba_1995champion.loc[nba_1995champion[\"Tm\"] == \"HOU\"]"
   ]
  },
  {
   "cell_type": "code",
   "execution_count": 225,
   "metadata": {},
   "outputs": [],
   "source": [
    "combined5 = pd.merge(combined4, nba_1995champion, how='outer')"
   ]
  },
  {
   "cell_type": "code",
   "execution_count": 226,
   "metadata": {},
   "outputs": [],
   "source": [
    "nba_1996champion = nba_champion.loc[nba_champion[\"Year\"] == 1996.0]\n",
    "nba_1996champion = nba_1996champion.loc[nba_1996champion[\"Tm\"] == \"CHI\"]"
   ]
  },
  {
   "cell_type": "code",
   "execution_count": 227,
   "metadata": {},
   "outputs": [],
   "source": [
    "combined6 = pd.merge(combined5, nba_1996champion, how='outer')"
   ]
  },
  {
   "cell_type": "code",
   "execution_count": 228,
   "metadata": {},
   "outputs": [],
   "source": [
    "nba_1997champion = nba_champion.loc[nba_champion[\"Year\"] == 1997.0]\n",
    "nba_1997champion = nba_1997champion.loc[nba_1997champion[\"Tm\"] == \"CHI\"]"
   ]
  },
  {
   "cell_type": "code",
   "execution_count": 229,
   "metadata": {},
   "outputs": [],
   "source": [
    "combined7 = pd.merge(combined6, nba_1997champion, how='outer')"
   ]
  },
  {
   "cell_type": "code",
   "execution_count": 230,
   "metadata": {},
   "outputs": [],
   "source": [
    "nba_1998champion = nba_champion.loc[nba_champion[\"Year\"] == 1998.0]\n",
    "nba_1998champion = nba_1998champion.loc[nba_1998champion[\"Tm\"] == \"CHI\"]"
   ]
  },
  {
   "cell_type": "code",
   "execution_count": 231,
   "metadata": {},
   "outputs": [],
   "source": [
    "combined8 = pd.merge(combined7, nba_1998champion, how='outer')"
   ]
  },
  {
   "cell_type": "code",
   "execution_count": 232,
   "metadata": {},
   "outputs": [],
   "source": [
    "nba_1999champion = nba_champion.loc[nba_champion[\"Year\"] == 1999.0]\n",
    "nba_1999champion = nba_1999champion.loc[nba_1999champion[\"Tm\"] == \"SAS\"]"
   ]
  },
  {
   "cell_type": "code",
   "execution_count": 233,
   "metadata": {},
   "outputs": [],
   "source": [
    "combined9 = pd.merge(combined8, nba_1999champion, how='outer')"
   ]
  },
  {
   "cell_type": "code",
   "execution_count": 234,
   "metadata": {},
   "outputs": [],
   "source": [
    "nba_2000champion = nba_champion.loc[nba_champion[\"Year\"] == 2000.0]\n",
    "nba_2000champion = nba_2000champion.loc[nba_2000champion[\"Tm\"] == \"LAL\"]"
   ]
  },
  {
   "cell_type": "code",
   "execution_count": 235,
   "metadata": {},
   "outputs": [],
   "source": [
    "combined10 = pd.merge(combined9, nba_2000champion, how='outer')"
   ]
  },
  {
   "cell_type": "code",
   "execution_count": 236,
   "metadata": {},
   "outputs": [],
   "source": [
    "nba_2001champion = nba_champion.loc[nba_champion[\"Year\"] == 2001.0]\n",
    "nba_2001champion = nba_2001champion.loc[nba_2001champion[\"Tm\"] == \"LAL\"]"
   ]
  },
  {
   "cell_type": "code",
   "execution_count": 237,
   "metadata": {},
   "outputs": [],
   "source": [
    "combined11 = pd.merge(combined10, nba_2001champion, how='outer')"
   ]
  },
  {
   "cell_type": "code",
   "execution_count": 238,
   "metadata": {},
   "outputs": [],
   "source": [
    "nba_2002champion = nba_champion.loc[nba_champion[\"Year\"] == 2002.0]\n",
    "nba_2002champion = nba_2002champion.loc[nba_2002champion[\"Tm\"] == \"LAL\"]"
   ]
  },
  {
   "cell_type": "code",
   "execution_count": 239,
   "metadata": {},
   "outputs": [],
   "source": [
    "combined12 = pd.merge(combined11, nba_2002champion, how='outer')"
   ]
  },
  {
   "cell_type": "code",
   "execution_count": 240,
   "metadata": {},
   "outputs": [],
   "source": [
    "nba_2003champion = nba_champion.loc[nba_champion[\"Year\"] == 2003.0]\n",
    "nba_2003champion = nba_2003champion.loc[nba_2003champion[\"Tm\"] == \"SAS\"]"
   ]
  },
  {
   "cell_type": "code",
   "execution_count": 241,
   "metadata": {},
   "outputs": [],
   "source": [
    "combined13 = pd.merge(combined12, nba_2003champion, how='outer')"
   ]
  },
  {
   "cell_type": "code",
   "execution_count": 242,
   "metadata": {},
   "outputs": [],
   "source": [
    "nba_2004champion = nba_champion.loc[nba_champion[\"Year\"] == 2004.0]\n",
    "nba_2004champion = nba_2004champion.loc[nba_2004champion[\"Tm\"] == \"DET\"]"
   ]
  },
  {
   "cell_type": "code",
   "execution_count": 243,
   "metadata": {},
   "outputs": [],
   "source": [
    "combined14 = pd.merge(combined13, nba_2004champion, how='outer')"
   ]
  },
  {
   "cell_type": "code",
   "execution_count": 244,
   "metadata": {},
   "outputs": [],
   "source": [
    "nba_2005champion = nba_champion.loc[nba_champion[\"Year\"] == 2005.0]\n",
    "nba_2005champion = nba_2005champion.loc[nba_2005champion[\"Tm\"] == \"SAS\"]"
   ]
  },
  {
   "cell_type": "code",
   "execution_count": 245,
   "metadata": {},
   "outputs": [],
   "source": [
    "combined15 = pd.merge(combined14, nba_2005champion, how='outer')"
   ]
  },
  {
   "cell_type": "code",
   "execution_count": 246,
   "metadata": {},
   "outputs": [],
   "source": [
    "nba_2006champion = nba_champion.loc[nba_champion[\"Year\"] == 2006.0]\n",
    "nba_2006champion = nba_2006champion.loc[nba_2006champion[\"Tm\"] == \"MIA\"]"
   ]
  },
  {
   "cell_type": "code",
   "execution_count": 247,
   "metadata": {},
   "outputs": [],
   "source": [
    "combined16 = pd.merge(combined15, nba_2006champion, how='outer')"
   ]
  },
  {
   "cell_type": "code",
   "execution_count": 248,
   "metadata": {},
   "outputs": [],
   "source": [
    "nba_2007champion = nba_champion.loc[nba_champion[\"Year\"] == 2007.0]\n",
    "nba_2007champion = nba_2007champion.loc[nba_2007champion[\"Tm\"] == \"SAS\"]"
   ]
  },
  {
   "cell_type": "code",
   "execution_count": 249,
   "metadata": {},
   "outputs": [],
   "source": [
    "combined17 = pd.merge(combined16, nba_2007champion, how='outer')"
   ]
  },
  {
   "cell_type": "code",
   "execution_count": 250,
   "metadata": {},
   "outputs": [],
   "source": [
    "nba_2008champion = nba_champion.loc[nba_champion[\"Year\"] == 2008.0]\n",
    "nba_2008champion = nba_2008champion.loc[nba_2008champion[\"Tm\"] == \"BOS\"]"
   ]
  },
  {
   "cell_type": "code",
   "execution_count": 251,
   "metadata": {},
   "outputs": [],
   "source": [
    "combined18 = pd.merge(combined17, nba_2008champion, how='outer')"
   ]
  },
  {
   "cell_type": "code",
   "execution_count": 252,
   "metadata": {},
   "outputs": [],
   "source": [
    "nba_2009champion = nba_champion.loc[nba_champion[\"Year\"] == 2009.0]\n",
    "nba_2009champion = nba_2009champion.loc[nba_2009champion[\"Tm\"] == \"LAL\"]"
   ]
  },
  {
   "cell_type": "code",
   "execution_count": 253,
   "metadata": {},
   "outputs": [],
   "source": [
    "combined19 = pd.merge(combined18, nba_2009champion, how='outer')"
   ]
  },
  {
   "cell_type": "code",
   "execution_count": 254,
   "metadata": {},
   "outputs": [],
   "source": [
    "nba_2010champion = nba_champion.loc[nba_champion[\"Year\"] == 2010.0]\n",
    "nba_2010champion = nba_2010champion.loc[nba_2010champion[\"Tm\"] == \"LAL\"]"
   ]
  },
  {
   "cell_type": "code",
   "execution_count": 255,
   "metadata": {},
   "outputs": [],
   "source": [
    "combined20 = pd.merge(combined19, nba_2010champion, how='outer')"
   ]
  },
  {
   "cell_type": "code",
   "execution_count": 256,
   "metadata": {},
   "outputs": [],
   "source": [
    "nba_2011champion = nba_champion.loc[nba_champion[\"Year\"] == 2011.0]\n",
    "nba_2011champion = nba_2011champion.loc[nba_2011champion[\"Tm\"] == \"DAL\"]"
   ]
  },
  {
   "cell_type": "code",
   "execution_count": 257,
   "metadata": {},
   "outputs": [],
   "source": [
    "combined21 = pd.merge(combined20, nba_2011champion, how='outer')"
   ]
  },
  {
   "cell_type": "code",
   "execution_count": 258,
   "metadata": {},
   "outputs": [],
   "source": [
    "nba_2012champion = nba_champion.loc[nba_champion[\"Year\"] == 2012.0]\n",
    "nba_2012champion = nba_2012champion.loc[nba_2012champion[\"Tm\"] == \"MIA\"]"
   ]
  },
  {
   "cell_type": "code",
   "execution_count": 259,
   "metadata": {},
   "outputs": [],
   "source": [
    "combined22 = pd.merge(combined21, nba_2012champion, how='outer')"
   ]
  },
  {
   "cell_type": "code",
   "execution_count": 260,
   "metadata": {},
   "outputs": [],
   "source": [
    "nba_2013champion = nba_champion.loc[nba_champion[\"Year\"] == 2013.0]\n",
    "nba_2013champion = nba_2013champion.loc[nba_2013champion[\"Tm\"] == \"MIA\"]"
   ]
  },
  {
   "cell_type": "code",
   "execution_count": 261,
   "metadata": {},
   "outputs": [],
   "source": [
    "combined23 = pd.merge(combined22, nba_2013champion, how='outer')"
   ]
  },
  {
   "cell_type": "code",
   "execution_count": 262,
   "metadata": {},
   "outputs": [],
   "source": [
    "nba_2014champion = nba_champion.loc[nba_champion[\"Year\"] == 2014.0]\n",
    "nba_2014champion = nba_2014champion.loc[nba_2014champion[\"Tm\"] == \"SAS\"]"
   ]
  },
  {
   "cell_type": "code",
   "execution_count": 263,
   "metadata": {},
   "outputs": [],
   "source": [
    "combined24 = pd.merge(combined23, nba_2014champion, how='outer')"
   ]
  },
  {
   "cell_type": "code",
   "execution_count": 264,
   "metadata": {},
   "outputs": [],
   "source": [
    "nba_2015champion = nba_champion.loc[nba_champion[\"Year\"] == 2015.0]\n",
    "nba_2015champion = nba_2015champion.loc[nba_2015champion[\"Tm\"] == \"GSW\"]"
   ]
  },
  {
   "cell_type": "code",
   "execution_count": 265,
   "metadata": {},
   "outputs": [],
   "source": [
    "combined25 = pd.merge(combined24, nba_2015champion, how='outer')"
   ]
  },
  {
   "cell_type": "code",
   "execution_count": 266,
   "metadata": {},
   "outputs": [],
   "source": [
    "nba_2016champion = nba_champion.loc[nba_champion[\"Year\"] == 2016.0]\n",
    "nba_2016champion = nba_2016champion.loc[nba_2016champion[\"Tm\"] == \"CLE\"]"
   ]
  },
  {
   "cell_type": "code",
   "execution_count": 267,
   "metadata": {},
   "outputs": [],
   "source": [
    "combined26 = pd.merge(combined25, nba_2016champion, how='outer')"
   ]
  },
  {
   "cell_type": "code",
   "execution_count": 268,
   "metadata": {},
   "outputs": [],
   "source": [
    "nba_2017champion = nba_champion.loc[nba_champion[\"Year\"] == 2017.0]\n",
    "nba_2017champion = nba_2017champion.loc[nba_2017champion[\"Tm\"] == \"GSW\"]"
   ]
  },
  {
   "cell_type": "code",
   "execution_count": 269,
   "metadata": {},
   "outputs": [],
   "source": [
    "combined27 = pd.merge(combined26, nba_2017champion, how='outer')"
   ]
  },
  {
   "cell_type": "code",
   "execution_count": 270,
   "metadata": {},
   "outputs": [],
   "source": [
    "nba_2018champion = nba_champion.loc[nba_champion[\"Year\"] == 2018.0]\n",
    "nba_2018champion = nba_2018champion.loc[nba_2018champion[\"Tm\"] == \"GSW\"]"
   ]
  },
  {
   "cell_type": "code",
   "execution_count": 271,
   "metadata": {},
   "outputs": [],
   "source": [
    "combined28 = pd.merge(combined27, nba_2018champion, how='outer')"
   ]
  },
  {
   "cell_type": "code",
   "execution_count": 272,
   "metadata": {},
   "outputs": [
    {
     "data": {
      "text/plain": [
       "college\n",
       "University of California, Los Angeles                  18\n",
       "University of North Carolina                           16\n",
       "University of Kentucky                                 12\n",
       "University of Kansas                                   11\n",
       "University of Michigan                                 10\n",
       "University of Arizona                                  10\n",
       "University of Florida                                  10\n",
       "University of Nevada, Las Vegas                         9\n",
       "Duke University                                         9\n",
       "University of Louisville                                8\n",
       "University of Iowa                                      8\n",
       "University of Notre Dame                                8\n",
       "North Carolina State University                         8\n",
       "Georgia Institute of Technology                         8\n",
       "University of Texas at Austin                           8\n",
       "Michigan State University                               8\n",
       "University of Alabama                                   8\n",
       "University of California                                7\n",
       "University of Maryland                                  7\n",
       "University of Illinois at Urbana-Champaign              6\n",
       "University of Minnesota                                 6\n",
       "University of Connecticut                               6\n",
       "Vanderbilt University                                   6\n",
       "Oregon State University                                 6\n",
       "DePaul University                                       6\n",
       "Georgetown University                                   6\n",
       "University of Arkansas                                  6\n",
       "Arizona State University                                6\n",
       "University of Oklahoma                                  5\n",
       "University of Missouri                                  5\n",
       "                                                       ..\n",
       "University of Wisconsin-Stevens Point                   1\n",
       "Virginia Military Institute                             1\n",
       "Virginia Polytechnic Institute and State University     1\n",
       "West Texas A&M University                               1\n",
       "West Virginia University Institute of Technology        1\n",
       "Western Kentucky University                             1\n",
       "Trinity Valley Community College                        1\n",
       "Trenton State University                                1\n",
       "Texas Tech University                                   1\n",
       "Texas State University                                  1\n",
       "Longwood University                                     1\n",
       "Loyola College in Maryland                              1\n",
       "Loyola Marymount University                             1\n",
       "Marist College                                          1\n",
       "Master's College                                        1\n",
       "Mercer University                                       1\n",
       "Miami University                                        1\n",
       "Missouri State University                               1\n",
       "Morehead State University                               1\n",
       "Murray State University                                 1\n",
       "Nicholls State University                               1\n",
       "Robert Morris University (IL)                           1\n",
       "Saint Augustine's College                               1\n",
       "Santa Clara University                                  1\n",
       "Seattle University                                      1\n",
       "Southern University and A&M College                     1\n",
       "St. Mary's University                                   1\n",
       "Temple University                                       1\n",
       "Tennessee State University                              1\n",
       "Alabama A&M University                                  1\n",
       "Name: Player, Length: 181, dtype: int64"
      ]
     },
     "execution_count": 272,
     "metadata": {},
     "output_type": "execute_result"
    }
   ],
   "source": [
    "Playercount = combined28.groupby(\"college\")\n",
    "college = Playercount.nunique()[\"Player\"]\n",
    "college.sort_values(ascending=False)\n"
   ]
  },
  {
   "cell_type": "code",
   "execution_count": 273,
   "metadata": {},
   "outputs": [],
   "source": [
    "cities = [\"UCLA\", \"UNC\", \"Kentucky\", \"Cincinnati\", \"Ohio State University\"]\n",
    "college_count = [5.0, 5.0, 5.0, 5.0, 4.0]\n",
    "x_axis = np.arange(len(college_count))"
   ]
  },
  {
   "cell_type": "code",
   "execution_count": 274,
   "metadata": {},
   "outputs": [
    {
     "data": {
      "application/javascript": [
       "/* Put everything inside the global mpl namespace */\n",
       "window.mpl = {};\n",
       "\n",
       "\n",
       "mpl.get_websocket_type = function() {\n",
       "    if (typeof(WebSocket) !== 'undefined') {\n",
       "        return WebSocket;\n",
       "    } else if (typeof(MozWebSocket) !== 'undefined') {\n",
       "        return MozWebSocket;\n",
       "    } else {\n",
       "        alert('Your browser does not have WebSocket support.' +\n",
       "              'Please try Chrome, Safari or Firefox ≥ 6. ' +\n",
       "              'Firefox 4 and 5 are also supported but you ' +\n",
       "              'have to enable WebSockets in about:config.');\n",
       "    };\n",
       "}\n",
       "\n",
       "mpl.figure = function(figure_id, websocket, ondownload, parent_element) {\n",
       "    this.id = figure_id;\n",
       "\n",
       "    this.ws = websocket;\n",
       "\n",
       "    this.supports_binary = (this.ws.binaryType != undefined);\n",
       "\n",
       "    if (!this.supports_binary) {\n",
       "        var warnings = document.getElementById(\"mpl-warnings\");\n",
       "        if (warnings) {\n",
       "            warnings.style.display = 'block';\n",
       "            warnings.textContent = (\n",
       "                \"This browser does not support binary websocket messages. \" +\n",
       "                    \"Performance may be slow.\");\n",
       "        }\n",
       "    }\n",
       "\n",
       "    this.imageObj = new Image();\n",
       "\n",
       "    this.context = undefined;\n",
       "    this.message = undefined;\n",
       "    this.canvas = undefined;\n",
       "    this.rubberband_canvas = undefined;\n",
       "    this.rubberband_context = undefined;\n",
       "    this.format_dropdown = undefined;\n",
       "\n",
       "    this.image_mode = 'full';\n",
       "\n",
       "    this.root = $('<div/>');\n",
       "    this._root_extra_style(this.root)\n",
       "    this.root.attr('style', 'display: inline-block');\n",
       "\n",
       "    $(parent_element).append(this.root);\n",
       "\n",
       "    this._init_header(this);\n",
       "    this._init_canvas(this);\n",
       "    this._init_toolbar(this);\n",
       "\n",
       "    var fig = this;\n",
       "\n",
       "    this.waiting = false;\n",
       "\n",
       "    this.ws.onopen =  function () {\n",
       "            fig.send_message(\"supports_binary\", {value: fig.supports_binary});\n",
       "            fig.send_message(\"send_image_mode\", {});\n",
       "            if (mpl.ratio != 1) {\n",
       "                fig.send_message(\"set_dpi_ratio\", {'dpi_ratio': mpl.ratio});\n",
       "            }\n",
       "            fig.send_message(\"refresh\", {});\n",
       "        }\n",
       "\n",
       "    this.imageObj.onload = function() {\n",
       "            if (fig.image_mode == 'full') {\n",
       "                // Full images could contain transparency (where diff images\n",
       "                // almost always do), so we need to clear the canvas so that\n",
       "                // there is no ghosting.\n",
       "                fig.context.clearRect(0, 0, fig.canvas.width, fig.canvas.height);\n",
       "            }\n",
       "            fig.context.drawImage(fig.imageObj, 0, 0);\n",
       "        };\n",
       "\n",
       "    this.imageObj.onunload = function() {\n",
       "        fig.ws.close();\n",
       "    }\n",
       "\n",
       "    this.ws.onmessage = this._make_on_message_function(this);\n",
       "\n",
       "    this.ondownload = ondownload;\n",
       "}\n",
       "\n",
       "mpl.figure.prototype._init_header = function() {\n",
       "    var titlebar = $(\n",
       "        '<div class=\"ui-dialog-titlebar ui-widget-header ui-corner-all ' +\n",
       "        'ui-helper-clearfix\"/>');\n",
       "    var titletext = $(\n",
       "        '<div class=\"ui-dialog-title\" style=\"width: 100%; ' +\n",
       "        'text-align: center; padding: 3px;\"/>');\n",
       "    titlebar.append(titletext)\n",
       "    this.root.append(titlebar);\n",
       "    this.header = titletext[0];\n",
       "}\n",
       "\n",
       "\n",
       "\n",
       "mpl.figure.prototype._canvas_extra_style = function(canvas_div) {\n",
       "\n",
       "}\n",
       "\n",
       "\n",
       "mpl.figure.prototype._root_extra_style = function(canvas_div) {\n",
       "\n",
       "}\n",
       "\n",
       "mpl.figure.prototype._init_canvas = function() {\n",
       "    var fig = this;\n",
       "\n",
       "    var canvas_div = $('<div/>');\n",
       "\n",
       "    canvas_div.attr('style', 'position: relative; clear: both; outline: 0');\n",
       "\n",
       "    function canvas_keyboard_event(event) {\n",
       "        return fig.key_event(event, event['data']);\n",
       "    }\n",
       "\n",
       "    canvas_div.keydown('key_press', canvas_keyboard_event);\n",
       "    canvas_div.keyup('key_release', canvas_keyboard_event);\n",
       "    this.canvas_div = canvas_div\n",
       "    this._canvas_extra_style(canvas_div)\n",
       "    this.root.append(canvas_div);\n",
       "\n",
       "    var canvas = $('<canvas/>');\n",
       "    canvas.addClass('mpl-canvas');\n",
       "    canvas.attr('style', \"left: 0; top: 0; z-index: 0; outline: 0\")\n",
       "\n",
       "    this.canvas = canvas[0];\n",
       "    this.context = canvas[0].getContext(\"2d\");\n",
       "\n",
       "    var backingStore = this.context.backingStorePixelRatio ||\n",
       "\tthis.context.webkitBackingStorePixelRatio ||\n",
       "\tthis.context.mozBackingStorePixelRatio ||\n",
       "\tthis.context.msBackingStorePixelRatio ||\n",
       "\tthis.context.oBackingStorePixelRatio ||\n",
       "\tthis.context.backingStorePixelRatio || 1;\n",
       "\n",
       "    mpl.ratio = (window.devicePixelRatio || 1) / backingStore;\n",
       "\n",
       "    var rubberband = $('<canvas/>');\n",
       "    rubberband.attr('style', \"position: absolute; left: 0; top: 0; z-index: 1;\")\n",
       "\n",
       "    var pass_mouse_events = true;\n",
       "\n",
       "    canvas_div.resizable({\n",
       "        start: function(event, ui) {\n",
       "            pass_mouse_events = false;\n",
       "        },\n",
       "        resize: function(event, ui) {\n",
       "            fig.request_resize(ui.size.width, ui.size.height);\n",
       "        },\n",
       "        stop: function(event, ui) {\n",
       "            pass_mouse_events = true;\n",
       "            fig.request_resize(ui.size.width, ui.size.height);\n",
       "        },\n",
       "    });\n",
       "\n",
       "    function mouse_event_fn(event) {\n",
       "        if (pass_mouse_events)\n",
       "            return fig.mouse_event(event, event['data']);\n",
       "    }\n",
       "\n",
       "    rubberband.mousedown('button_press', mouse_event_fn);\n",
       "    rubberband.mouseup('button_release', mouse_event_fn);\n",
       "    // Throttle sequential mouse events to 1 every 20ms.\n",
       "    rubberband.mousemove('motion_notify', mouse_event_fn);\n",
       "\n",
       "    rubberband.mouseenter('figure_enter', mouse_event_fn);\n",
       "    rubberband.mouseleave('figure_leave', mouse_event_fn);\n",
       "\n",
       "    canvas_div.on(\"wheel\", function (event) {\n",
       "        event = event.originalEvent;\n",
       "        event['data'] = 'scroll'\n",
       "        if (event.deltaY < 0) {\n",
       "            event.step = 1;\n",
       "        } else {\n",
       "            event.step = -1;\n",
       "        }\n",
       "        mouse_event_fn(event);\n",
       "    });\n",
       "\n",
       "    canvas_div.append(canvas);\n",
       "    canvas_div.append(rubberband);\n",
       "\n",
       "    this.rubberband = rubberband;\n",
       "    this.rubberband_canvas = rubberband[0];\n",
       "    this.rubberband_context = rubberband[0].getContext(\"2d\");\n",
       "    this.rubberband_context.strokeStyle = \"#000000\";\n",
       "\n",
       "    this._resize_canvas = function(width, height) {\n",
       "        // Keep the size of the canvas, canvas container, and rubber band\n",
       "        // canvas in synch.\n",
       "        canvas_div.css('width', width)\n",
       "        canvas_div.css('height', height)\n",
       "\n",
       "        canvas.attr('width', width * mpl.ratio);\n",
       "        canvas.attr('height', height * mpl.ratio);\n",
       "        canvas.attr('style', 'width: ' + width + 'px; height: ' + height + 'px;');\n",
       "\n",
       "        rubberband.attr('width', width);\n",
       "        rubberband.attr('height', height);\n",
       "    }\n",
       "\n",
       "    // Set the figure to an initial 600x600px, this will subsequently be updated\n",
       "    // upon first draw.\n",
       "    this._resize_canvas(600, 600);\n",
       "\n",
       "    // Disable right mouse context menu.\n",
       "    $(this.rubberband_canvas).bind(\"contextmenu\",function(e){\n",
       "        return false;\n",
       "    });\n",
       "\n",
       "    function set_focus () {\n",
       "        canvas.focus();\n",
       "        canvas_div.focus();\n",
       "    }\n",
       "\n",
       "    window.setTimeout(set_focus, 100);\n",
       "}\n",
       "\n",
       "mpl.figure.prototype._init_toolbar = function() {\n",
       "    var fig = this;\n",
       "\n",
       "    var nav_element = $('<div/>')\n",
       "    nav_element.attr('style', 'width: 100%');\n",
       "    this.root.append(nav_element);\n",
       "\n",
       "    // Define a callback function for later on.\n",
       "    function toolbar_event(event) {\n",
       "        return fig.toolbar_button_onclick(event['data']);\n",
       "    }\n",
       "    function toolbar_mouse_event(event) {\n",
       "        return fig.toolbar_button_onmouseover(event['data']);\n",
       "    }\n",
       "\n",
       "    for(var toolbar_ind in mpl.toolbar_items) {\n",
       "        var name = mpl.toolbar_items[toolbar_ind][0];\n",
       "        var tooltip = mpl.toolbar_items[toolbar_ind][1];\n",
       "        var image = mpl.toolbar_items[toolbar_ind][2];\n",
       "        var method_name = mpl.toolbar_items[toolbar_ind][3];\n",
       "\n",
       "        if (!name) {\n",
       "            // put a spacer in here.\n",
       "            continue;\n",
       "        }\n",
       "        var button = $('<button/>');\n",
       "        button.addClass('ui-button ui-widget ui-state-default ui-corner-all ' +\n",
       "                        'ui-button-icon-only');\n",
       "        button.attr('role', 'button');\n",
       "        button.attr('aria-disabled', 'false');\n",
       "        button.click(method_name, toolbar_event);\n",
       "        button.mouseover(tooltip, toolbar_mouse_event);\n",
       "\n",
       "        var icon_img = $('<span/>');\n",
       "        icon_img.addClass('ui-button-icon-primary ui-icon');\n",
       "        icon_img.addClass(image);\n",
       "        icon_img.addClass('ui-corner-all');\n",
       "\n",
       "        var tooltip_span = $('<span/>');\n",
       "        tooltip_span.addClass('ui-button-text');\n",
       "        tooltip_span.html(tooltip);\n",
       "\n",
       "        button.append(icon_img);\n",
       "        button.append(tooltip_span);\n",
       "\n",
       "        nav_element.append(button);\n",
       "    }\n",
       "\n",
       "    var fmt_picker_span = $('<span/>');\n",
       "\n",
       "    var fmt_picker = $('<select/>');\n",
       "    fmt_picker.addClass('mpl-toolbar-option ui-widget ui-widget-content');\n",
       "    fmt_picker_span.append(fmt_picker);\n",
       "    nav_element.append(fmt_picker_span);\n",
       "    this.format_dropdown = fmt_picker[0];\n",
       "\n",
       "    for (var ind in mpl.extensions) {\n",
       "        var fmt = mpl.extensions[ind];\n",
       "        var option = $(\n",
       "            '<option/>', {selected: fmt === mpl.default_extension}).html(fmt);\n",
       "        fmt_picker.append(option)\n",
       "    }\n",
       "\n",
       "    // Add hover states to the ui-buttons\n",
       "    $( \".ui-button\" ).hover(\n",
       "        function() { $(this).addClass(\"ui-state-hover\");},\n",
       "        function() { $(this).removeClass(\"ui-state-hover\");}\n",
       "    );\n",
       "\n",
       "    var status_bar = $('<span class=\"mpl-message\"/>');\n",
       "    nav_element.append(status_bar);\n",
       "    this.message = status_bar[0];\n",
       "}\n",
       "\n",
       "mpl.figure.prototype.request_resize = function(x_pixels, y_pixels) {\n",
       "    // Request matplotlib to resize the figure. Matplotlib will then trigger a resize in the client,\n",
       "    // which will in turn request a refresh of the image.\n",
       "    this.send_message('resize', {'width': x_pixels, 'height': y_pixels});\n",
       "}\n",
       "\n",
       "mpl.figure.prototype.send_message = function(type, properties) {\n",
       "    properties['type'] = type;\n",
       "    properties['figure_id'] = this.id;\n",
       "    this.ws.send(JSON.stringify(properties));\n",
       "}\n",
       "\n",
       "mpl.figure.prototype.send_draw_message = function() {\n",
       "    if (!this.waiting) {\n",
       "        this.waiting = true;\n",
       "        this.ws.send(JSON.stringify({type: \"draw\", figure_id: this.id}));\n",
       "    }\n",
       "}\n",
       "\n",
       "\n",
       "mpl.figure.prototype.handle_save = function(fig, msg) {\n",
       "    var format_dropdown = fig.format_dropdown;\n",
       "    var format = format_dropdown.options[format_dropdown.selectedIndex].value;\n",
       "    fig.ondownload(fig, format);\n",
       "}\n",
       "\n",
       "\n",
       "mpl.figure.prototype.handle_resize = function(fig, msg) {\n",
       "    var size = msg['size'];\n",
       "    if (size[0] != fig.canvas.width || size[1] != fig.canvas.height) {\n",
       "        fig._resize_canvas(size[0], size[1]);\n",
       "        fig.send_message(\"refresh\", {});\n",
       "    };\n",
       "}\n",
       "\n",
       "mpl.figure.prototype.handle_rubberband = function(fig, msg) {\n",
       "    var x0 = msg['x0'] / mpl.ratio;\n",
       "    var y0 = (fig.canvas.height - msg['y0']) / mpl.ratio;\n",
       "    var x1 = msg['x1'] / mpl.ratio;\n",
       "    var y1 = (fig.canvas.height - msg['y1']) / mpl.ratio;\n",
       "    x0 = Math.floor(x0) + 0.5;\n",
       "    y0 = Math.floor(y0) + 0.5;\n",
       "    x1 = Math.floor(x1) + 0.5;\n",
       "    y1 = Math.floor(y1) + 0.5;\n",
       "    var min_x = Math.min(x0, x1);\n",
       "    var min_y = Math.min(y0, y1);\n",
       "    var width = Math.abs(x1 - x0);\n",
       "    var height = Math.abs(y1 - y0);\n",
       "\n",
       "    fig.rubberband_context.clearRect(\n",
       "        0, 0, fig.canvas.width, fig.canvas.height);\n",
       "\n",
       "    fig.rubberband_context.strokeRect(min_x, min_y, width, height);\n",
       "}\n",
       "\n",
       "mpl.figure.prototype.handle_figure_label = function(fig, msg) {\n",
       "    // Updates the figure title.\n",
       "    fig.header.textContent = msg['label'];\n",
       "}\n",
       "\n",
       "mpl.figure.prototype.handle_cursor = function(fig, msg) {\n",
       "    var cursor = msg['cursor'];\n",
       "    switch(cursor)\n",
       "    {\n",
       "    case 0:\n",
       "        cursor = 'pointer';\n",
       "        break;\n",
       "    case 1:\n",
       "        cursor = 'default';\n",
       "        break;\n",
       "    case 2:\n",
       "        cursor = 'crosshair';\n",
       "        break;\n",
       "    case 3:\n",
       "        cursor = 'move';\n",
       "        break;\n",
       "    }\n",
       "    fig.rubberband_canvas.style.cursor = cursor;\n",
       "}\n",
       "\n",
       "mpl.figure.prototype.handle_message = function(fig, msg) {\n",
       "    fig.message.textContent = msg['message'];\n",
       "}\n",
       "\n",
       "mpl.figure.prototype.handle_draw = function(fig, msg) {\n",
       "    // Request the server to send over a new figure.\n",
       "    fig.send_draw_message();\n",
       "}\n",
       "\n",
       "mpl.figure.prototype.handle_image_mode = function(fig, msg) {\n",
       "    fig.image_mode = msg['mode'];\n",
       "}\n",
       "\n",
       "mpl.figure.prototype.updated_canvas_event = function() {\n",
       "    // Called whenever the canvas gets updated.\n",
       "    this.send_message(\"ack\", {});\n",
       "}\n",
       "\n",
       "// A function to construct a web socket function for onmessage handling.\n",
       "// Called in the figure constructor.\n",
       "mpl.figure.prototype._make_on_message_function = function(fig) {\n",
       "    return function socket_on_message(evt) {\n",
       "        if (evt.data instanceof Blob) {\n",
       "            /* FIXME: We get \"Resource interpreted as Image but\n",
       "             * transferred with MIME type text/plain:\" errors on\n",
       "             * Chrome.  But how to set the MIME type?  It doesn't seem\n",
       "             * to be part of the websocket stream */\n",
       "            evt.data.type = \"image/png\";\n",
       "\n",
       "            /* Free the memory for the previous frames */\n",
       "            if (fig.imageObj.src) {\n",
       "                (window.URL || window.webkitURL).revokeObjectURL(\n",
       "                    fig.imageObj.src);\n",
       "            }\n",
       "\n",
       "            fig.imageObj.src = (window.URL || window.webkitURL).createObjectURL(\n",
       "                evt.data);\n",
       "            fig.updated_canvas_event();\n",
       "            fig.waiting = false;\n",
       "            return;\n",
       "        }\n",
       "        else if (typeof evt.data === 'string' && evt.data.slice(0, 21) == \"data:image/png;base64\") {\n",
       "            fig.imageObj.src = evt.data;\n",
       "            fig.updated_canvas_event();\n",
       "            fig.waiting = false;\n",
       "            return;\n",
       "        }\n",
       "\n",
       "        var msg = JSON.parse(evt.data);\n",
       "        var msg_type = msg['type'];\n",
       "\n",
       "        // Call the  \"handle_{type}\" callback, which takes\n",
       "        // the figure and JSON message as its only arguments.\n",
       "        try {\n",
       "            var callback = fig[\"handle_\" + msg_type];\n",
       "        } catch (e) {\n",
       "            console.log(\"No handler for the '\" + msg_type + \"' message type: \", msg);\n",
       "            return;\n",
       "        }\n",
       "\n",
       "        if (callback) {\n",
       "            try {\n",
       "                // console.log(\"Handling '\" + msg_type + \"' message: \", msg);\n",
       "                callback(fig, msg);\n",
       "            } catch (e) {\n",
       "                console.log(\"Exception inside the 'handler_\" + msg_type + \"' callback:\", e, e.stack, msg);\n",
       "            }\n",
       "        }\n",
       "    };\n",
       "}\n",
       "\n",
       "// from http://stackoverflow.com/questions/1114465/getting-mouse-location-in-canvas\n",
       "mpl.findpos = function(e) {\n",
       "    //this section is from http://www.quirksmode.org/js/events_properties.html\n",
       "    var targ;\n",
       "    if (!e)\n",
       "        e = window.event;\n",
       "    if (e.target)\n",
       "        targ = e.target;\n",
       "    else if (e.srcElement)\n",
       "        targ = e.srcElement;\n",
       "    if (targ.nodeType == 3) // defeat Safari bug\n",
       "        targ = targ.parentNode;\n",
       "\n",
       "    // jQuery normalizes the pageX and pageY\n",
       "    // pageX,Y are the mouse positions relative to the document\n",
       "    // offset() returns the position of the element relative to the document\n",
       "    var x = e.pageX - $(targ).offset().left;\n",
       "    var y = e.pageY - $(targ).offset().top;\n",
       "\n",
       "    return {\"x\": x, \"y\": y};\n",
       "};\n",
       "\n",
       "/*\n",
       " * return a copy of an object with only non-object keys\n",
       " * we need this to avoid circular references\n",
       " * http://stackoverflow.com/a/24161582/3208463\n",
       " */\n",
       "function simpleKeys (original) {\n",
       "  return Object.keys(original).reduce(function (obj, key) {\n",
       "    if (typeof original[key] !== 'object')\n",
       "        obj[key] = original[key]\n",
       "    return obj;\n",
       "  }, {});\n",
       "}\n",
       "\n",
       "mpl.figure.prototype.mouse_event = function(event, name) {\n",
       "    var canvas_pos = mpl.findpos(event)\n",
       "\n",
       "    if (name === 'button_press')\n",
       "    {\n",
       "        this.canvas.focus();\n",
       "        this.canvas_div.focus();\n",
       "    }\n",
       "\n",
       "    var x = canvas_pos.x * mpl.ratio;\n",
       "    var y = canvas_pos.y * mpl.ratio;\n",
       "\n",
       "    this.send_message(name, {x: x, y: y, button: event.button,\n",
       "                             step: event.step,\n",
       "                             guiEvent: simpleKeys(event)});\n",
       "\n",
       "    /* This prevents the web browser from automatically changing to\n",
       "     * the text insertion cursor when the button is pressed.  We want\n",
       "     * to control all of the cursor setting manually through the\n",
       "     * 'cursor' event from matplotlib */\n",
       "    event.preventDefault();\n",
       "    return false;\n",
       "}\n",
       "\n",
       "mpl.figure.prototype._key_event_extra = function(event, name) {\n",
       "    // Handle any extra behaviour associated with a key event\n",
       "}\n",
       "\n",
       "mpl.figure.prototype.key_event = function(event, name) {\n",
       "\n",
       "    // Prevent repeat events\n",
       "    if (name == 'key_press')\n",
       "    {\n",
       "        if (event.which === this._key)\n",
       "            return;\n",
       "        else\n",
       "            this._key = event.which;\n",
       "    }\n",
       "    if (name == 'key_release')\n",
       "        this._key = null;\n",
       "\n",
       "    var value = '';\n",
       "    if (event.ctrlKey && event.which != 17)\n",
       "        value += \"ctrl+\";\n",
       "    if (event.altKey && event.which != 18)\n",
       "        value += \"alt+\";\n",
       "    if (event.shiftKey && event.which != 16)\n",
       "        value += \"shift+\";\n",
       "\n",
       "    value += 'k';\n",
       "    value += event.which.toString();\n",
       "\n",
       "    this._key_event_extra(event, name);\n",
       "\n",
       "    this.send_message(name, {key: value,\n",
       "                             guiEvent: simpleKeys(event)});\n",
       "    return false;\n",
       "}\n",
       "\n",
       "mpl.figure.prototype.toolbar_button_onclick = function(name) {\n",
       "    if (name == 'download') {\n",
       "        this.handle_save(this, null);\n",
       "    } else {\n",
       "        this.send_message(\"toolbar_button\", {name: name});\n",
       "    }\n",
       "};\n",
       "\n",
       "mpl.figure.prototype.toolbar_button_onmouseover = function(tooltip) {\n",
       "    this.message.textContent = tooltip;\n",
       "};\n",
       "mpl.toolbar_items = [[\"Home\", \"Reset original view\", \"fa fa-home icon-home\", \"home\"], [\"Back\", \"Back to previous view\", \"fa fa-arrow-left icon-arrow-left\", \"back\"], [\"Forward\", \"Forward to next view\", \"fa fa-arrow-right icon-arrow-right\", \"forward\"], [\"\", \"\", \"\", \"\"], [\"Pan\", \"Pan axes with left mouse, zoom with right\", \"fa fa-arrows icon-move\", \"pan\"], [\"Zoom\", \"Zoom to rectangle\", \"fa fa-square-o icon-check-empty\", \"zoom\"], [\"\", \"\", \"\", \"\"], [\"Download\", \"Download plot\", \"fa fa-floppy-o icon-save\", \"download\"]];\n",
       "\n",
       "mpl.extensions = [\"eps\", \"jpeg\", \"pdf\", \"png\", \"ps\", \"raw\", \"svg\", \"tif\"];\n",
       "\n",
       "mpl.default_extension = \"png\";var comm_websocket_adapter = function(comm) {\n",
       "    // Create a \"websocket\"-like object which calls the given IPython comm\n",
       "    // object with the appropriate methods. Currently this is a non binary\n",
       "    // socket, so there is still some room for performance tuning.\n",
       "    var ws = {};\n",
       "\n",
       "    ws.close = function() {\n",
       "        comm.close()\n",
       "    };\n",
       "    ws.send = function(m) {\n",
       "        //console.log('sending', m);\n",
       "        comm.send(m);\n",
       "    };\n",
       "    // Register the callback with on_msg.\n",
       "    comm.on_msg(function(msg) {\n",
       "        //console.log('receiving', msg['content']['data'], msg);\n",
       "        // Pass the mpl event to the overridden (by mpl) onmessage function.\n",
       "        ws.onmessage(msg['content']['data'])\n",
       "    });\n",
       "    return ws;\n",
       "}\n",
       "\n",
       "mpl.mpl_figure_comm = function(comm, msg) {\n",
       "    // This is the function which gets called when the mpl process\n",
       "    // starts-up an IPython Comm through the \"matplotlib\" channel.\n",
       "\n",
       "    var id = msg.content.data.id;\n",
       "    // Get hold of the div created by the display call when the Comm\n",
       "    // socket was opened in Python.\n",
       "    var element = $(\"#\" + id);\n",
       "    var ws_proxy = comm_websocket_adapter(comm)\n",
       "\n",
       "    function ondownload(figure, format) {\n",
       "        window.open(figure.imageObj.src);\n",
       "    }\n",
       "\n",
       "    var fig = new mpl.figure(id, ws_proxy,\n",
       "                           ondownload,\n",
       "                           element.get(0));\n",
       "\n",
       "    // Call onopen now - mpl needs it, as it is assuming we've passed it a real\n",
       "    // web socket which is closed, not our websocket->open comm proxy.\n",
       "    ws_proxy.onopen();\n",
       "\n",
       "    fig.parent_element = element.get(0);\n",
       "    fig.cell_info = mpl.find_output_cell(\"<div id='\" + id + \"'></div>\");\n",
       "    if (!fig.cell_info) {\n",
       "        console.error(\"Failed to find cell for figure\", id, fig);\n",
       "        return;\n",
       "    }\n",
       "\n",
       "    var output_index = fig.cell_info[2]\n",
       "    var cell = fig.cell_info[0];\n",
       "\n",
       "};\n",
       "\n",
       "mpl.figure.prototype.handle_close = function(fig, msg) {\n",
       "    var width = fig.canvas.width/mpl.ratio\n",
       "    fig.root.unbind('remove')\n",
       "\n",
       "    // Update the output cell to use the data from the current canvas.\n",
       "    fig.push_to_output();\n",
       "    var dataURL = fig.canvas.toDataURL();\n",
       "    // Re-enable the keyboard manager in IPython - without this line, in FF,\n",
       "    // the notebook keyboard shortcuts fail.\n",
       "    IPython.keyboard_manager.enable()\n",
       "    $(fig.parent_element).html('<img src=\"' + dataURL + '\" width=\"' + width + '\">');\n",
       "    fig.close_ws(fig, msg);\n",
       "}\n",
       "\n",
       "mpl.figure.prototype.close_ws = function(fig, msg){\n",
       "    fig.send_message('closing', msg);\n",
       "    // fig.ws.close()\n",
       "}\n",
       "\n",
       "mpl.figure.prototype.push_to_output = function(remove_interactive) {\n",
       "    // Turn the data on the canvas into data in the output cell.\n",
       "    var width = this.canvas.width/mpl.ratio\n",
       "    var dataURL = this.canvas.toDataURL();\n",
       "    this.cell_info[1]['text/html'] = '<img src=\"' + dataURL + '\" width=\"' + width + '\">';\n",
       "}\n",
       "\n",
       "mpl.figure.prototype.updated_canvas_event = function() {\n",
       "    // Tell IPython that the notebook contents must change.\n",
       "    IPython.notebook.set_dirty(true);\n",
       "    this.send_message(\"ack\", {});\n",
       "    var fig = this;\n",
       "    // Wait a second, then push the new image to the DOM so\n",
       "    // that it is saved nicely (might be nice to debounce this).\n",
       "    setTimeout(function () { fig.push_to_output() }, 1000);\n",
       "}\n",
       "\n",
       "mpl.figure.prototype._init_toolbar = function() {\n",
       "    var fig = this;\n",
       "\n",
       "    var nav_element = $('<div/>')\n",
       "    nav_element.attr('style', 'width: 100%');\n",
       "    this.root.append(nav_element);\n",
       "\n",
       "    // Define a callback function for later on.\n",
       "    function toolbar_event(event) {\n",
       "        return fig.toolbar_button_onclick(event['data']);\n",
       "    }\n",
       "    function toolbar_mouse_event(event) {\n",
       "        return fig.toolbar_button_onmouseover(event['data']);\n",
       "    }\n",
       "\n",
       "    for(var toolbar_ind in mpl.toolbar_items){\n",
       "        var name = mpl.toolbar_items[toolbar_ind][0];\n",
       "        var tooltip = mpl.toolbar_items[toolbar_ind][1];\n",
       "        var image = mpl.toolbar_items[toolbar_ind][2];\n",
       "        var method_name = mpl.toolbar_items[toolbar_ind][3];\n",
       "\n",
       "        if (!name) { continue; };\n",
       "\n",
       "        var button = $('<button class=\"btn btn-default\" href=\"#\" title=\"' + name + '\"><i class=\"fa ' + image + ' fa-lg\"></i></button>');\n",
       "        button.click(method_name, toolbar_event);\n",
       "        button.mouseover(tooltip, toolbar_mouse_event);\n",
       "        nav_element.append(button);\n",
       "    }\n",
       "\n",
       "    // Add the status bar.\n",
       "    var status_bar = $('<span class=\"mpl-message\" style=\"text-align:right; float: right;\"/>');\n",
       "    nav_element.append(status_bar);\n",
       "    this.message = status_bar[0];\n",
       "\n",
       "    // Add the close button to the window.\n",
       "    var buttongrp = $('<div class=\"btn-group inline pull-right\"></div>');\n",
       "    var button = $('<button class=\"btn btn-mini btn-primary\" href=\"#\" title=\"Stop Interaction\"><i class=\"fa fa-power-off icon-remove icon-large\"></i></button>');\n",
       "    button.click(function (evt) { fig.handle_close(fig, {}); } );\n",
       "    button.mouseover('Stop Interaction', toolbar_mouse_event);\n",
       "    buttongrp.append(button);\n",
       "    var titlebar = this.root.find($('.ui-dialog-titlebar'));\n",
       "    titlebar.prepend(buttongrp);\n",
       "}\n",
       "\n",
       "mpl.figure.prototype._root_extra_style = function(el){\n",
       "    var fig = this\n",
       "    el.on(\"remove\", function(){\n",
       "\tfig.close_ws(fig, {});\n",
       "    });\n",
       "}\n",
       "\n",
       "mpl.figure.prototype._canvas_extra_style = function(el){\n",
       "    // this is important to make the div 'focusable\n",
       "    el.attr('tabindex', 0)\n",
       "    // reach out to IPython and tell the keyboard manager to turn it's self\n",
       "    // off when our div gets focus\n",
       "\n",
       "    // location in version 3\n",
       "    if (IPython.notebook.keyboard_manager) {\n",
       "        IPython.notebook.keyboard_manager.register_events(el);\n",
       "    }\n",
       "    else {\n",
       "        // location in version 2\n",
       "        IPython.keyboard_manager.register_events(el);\n",
       "    }\n",
       "\n",
       "}\n",
       "\n",
       "mpl.figure.prototype._key_event_extra = function(event, name) {\n",
       "    var manager = IPython.notebook.keyboard_manager;\n",
       "    if (!manager)\n",
       "        manager = IPython.keyboard_manager;\n",
       "\n",
       "    // Check for shift+enter\n",
       "    if (event.shiftKey && event.which == 13) {\n",
       "        this.canvas_div.blur();\n",
       "        event.shiftKey = false;\n",
       "        // Send a \"J\" for go to next cell\n",
       "        event.which = 74;\n",
       "        event.keyCode = 74;\n",
       "        manager.command_mode();\n",
       "        manager.handle_keydown(event);\n",
       "    }\n",
       "}\n",
       "\n",
       "mpl.figure.prototype.handle_save = function(fig, msg) {\n",
       "    fig.ondownload(fig, null);\n",
       "}\n",
       "\n",
       "\n",
       "mpl.find_output_cell = function(html_output) {\n",
       "    // Return the cell and output element which can be found *uniquely* in the notebook.\n",
       "    // Note - this is a bit hacky, but it is done because the \"notebook_saving.Notebook\"\n",
       "    // IPython event is triggered only after the cells have been serialised, which for\n",
       "    // our purposes (turning an active figure into a static one), is too late.\n",
       "    var cells = IPython.notebook.get_cells();\n",
       "    var ncells = cells.length;\n",
       "    for (var i=0; i<ncells; i++) {\n",
       "        var cell = cells[i];\n",
       "        if (cell.cell_type === 'code'){\n",
       "            for (var j=0; j<cell.output_area.outputs.length; j++) {\n",
       "                var data = cell.output_area.outputs[j];\n",
       "                if (data.data) {\n",
       "                    // IPython >= 3 moved mimebundle to data attribute of output\n",
       "                    data = data.data;\n",
       "                }\n",
       "                if (data['text/html'] == html_output) {\n",
       "                    return [cell, data, j];\n",
       "                }\n",
       "            }\n",
       "        }\n",
       "    }\n",
       "}\n",
       "\n",
       "// Register the function which deals with the matplotlib target/channel.\n",
       "// The kernel may be null if the page has been refreshed.\n",
       "if (IPython.notebook.kernel != null) {\n",
       "    IPython.notebook.kernel.comm_manager.register_target('matplotlib', mpl.mpl_figure_comm);\n",
       "}\n"
      ],
      "text/plain": [
       "<IPython.core.display.Javascript object>"
      ]
     },
     "metadata": {},
     "output_type": "display_data"
    },
    {
     "data": {
      "text/html": [
       "<img src=\"data:image/png;base64,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\" width=\"639.999974568686\">"
      ],
      "text/plain": [
       "<IPython.core.display.HTML object>"
      ]
     },
     "metadata": {},
     "output_type": "display_data"
    },
    {
     "data": {
      "text/plain": [
       "<BarContainer object of 5 artists>"
      ]
     },
     "execution_count": 274,
     "metadata": {},
     "output_type": "execute_result"
    }
   ],
   "source": [
    "plt.bar(x_axis, college_count, color=\"b\", align=\"center\")"
   ]
  },
  {
   "cell_type": "code",
   "execution_count": 275,
   "metadata": {},
   "outputs": [
    {
     "data": {
      "text/plain": [
       "([<matplotlib.axis.XTick at 0x2778579fa58>,\n",
       "  <matplotlib.axis.XTick at 0x2778579f3c8>,\n",
       "  <matplotlib.axis.XTick at 0x27785bd00f0>,\n",
       "  <matplotlib.axis.XTick at 0x277859f3be0>,\n",
       "  <matplotlib.axis.XTick at 0x277859f3e80>],\n",
       " <a list of 5 Text xticklabel objects>)"
      ]
     },
     "execution_count": 275,
     "metadata": {},
     "output_type": "execute_result"
    }
   ],
   "source": [
    "tick_locations = [value for value in x_axis]\n",
    "plt.xticks(tick_locations, cities)"
   ]
  },
  {
   "cell_type": "code",
   "execution_count": 276,
   "metadata": {},
   "outputs": [
    {
     "data": {
      "text/plain": [
       "(-0.75, 4.75)"
      ]
     },
     "execution_count": 276,
     "metadata": {},
     "output_type": "execute_result"
    }
   ],
   "source": [
    "plt.xlim(-0.75, len(x_axis)-0.25)"
   ]
  },
  {
   "cell_type": "code",
   "execution_count": 277,
   "metadata": {},
   "outputs": [
    {
     "data": {
      "text/plain": [
       "(0, 5.4)"
      ]
     },
     "execution_count": 277,
     "metadata": {},
     "output_type": "execute_result"
    }
   ],
   "source": [
    "plt.ylim(0, max(college_count)+0.4)"
   ]
  },
  {
   "cell_type": "code",
   "execution_count": 278,
   "metadata": {},
   "outputs": [
    {
     "data": {
      "text/plain": [
       "Text(0, 0.5, 'College Count')"
      ]
     },
     "execution_count": 278,
     "metadata": {},
     "output_type": "execute_result"
    }
   ],
   "source": [
    "plt.title(\"College Champions Representation\")\n",
    "plt.xlabel(\"Cities\")\n",
    "plt.ylabel(\"College Count\")"
   ]
  },
  {
   "cell_type": "code",
   "execution_count": 279,
   "metadata": {},
   "outputs": [],
   "source": [
    "plt.show()"
   ]
  },
  {
   "cell_type": "code",
   "execution_count": null,
   "metadata": {},
   "outputs": [],
   "source": []
  },
  {
   "cell_type": "code",
   "execution_count": null,
   "metadata": {},
   "outputs": [],
   "source": []
  },
  {
   "cell_type": "code",
   "execution_count": null,
   "metadata": {},
   "outputs": [],
   "source": []
  },
  {
   "cell_type": "code",
   "execution_count": null,
   "metadata": {},
   "outputs": [],
   "source": []
  },
  {
   "cell_type": "code",
   "execution_count": null,
   "metadata": {},
   "outputs": [],
   "source": []
  },
  {
   "cell_type": "code",
   "execution_count": null,
   "metadata": {},
   "outputs": [],
   "source": []
  },
  {
   "cell_type": "code",
   "execution_count": null,
   "metadata": {},
   "outputs": [],
   "source": []
  },
  {
   "cell_type": "code",
   "execution_count": null,
   "metadata": {},
   "outputs": [],
   "source": []
  }
 ],
 "metadata": {
  "kernelspec": {
   "display_name": "Python 3",
   "language": "python",
   "name": "python3"
  },
  "language_info": {
   "codemirror_mode": {
    "name": "ipython",
    "version": 3
   },
   "file_extension": ".py",
   "mimetype": "text/x-python",
   "name": "python",
   "nbconvert_exporter": "python",
   "pygments_lexer": "ipython3",
   "version": "3.7.3"
  }
 },
 "nbformat": 4,
 "nbformat_minor": 2
}
