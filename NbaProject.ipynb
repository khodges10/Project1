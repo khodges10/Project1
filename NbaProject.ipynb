{
 "cells": [
  {
   "cell_type": "code",
   "execution_count": 1,
   "metadata": {},
   "outputs": [],
   "source": [
    "%matplotlib notebook\n",
    "import matplotlib.pyplot as plt\n",
    "import pandas as pd\n",
    "import numpy as np"
   ]
  },
  {
   "cell_type": "code",
   "execution_count": 2,
   "metadata": {},
   "outputs": [],
   "source": [
    "nba_seasondata = \"Data/Seasons_Stats.csv\"\n",
    "nba_player = \"Data/player_data.csv\"\n",
    "\n",
    "nba_data1 = pd.read_csv(nba_seasondata)\n",
    "nba_data2 = pd.read_csv(nba_player)"
   ]
  },
  {
   "cell_type": "code",
   "execution_count": 3,
   "metadata": {},
   "outputs": [],
   "source": [
    "nba_data2.head()\n",
    "nba_data2 = nba_data2.rename(columns = {\"name\":\"Player\"})"
   ]
  },
  {
   "cell_type": "code",
   "execution_count": 4,
   "metadata": {},
   "outputs": [
    {
     "data": {
      "text/plain": [
       "Index(['Unnamed: 0', 'Year', 'Player', 'Pos', 'Age', 'Tm', 'G', 'GS', 'MP',\n",
       "       'PER', 'TS%', '3PAr', 'FTr', 'ORB%', 'DRB%', 'TRB%', 'AST%', 'STL%',\n",
       "       'BLK%', 'TOV%', 'USG%', 'blanl', 'OWS', 'DWS', 'WS', 'WS/48', 'blank2',\n",
       "       'OBPM', 'DBPM', 'BPM', 'VORP', 'FG', 'FGA', 'FG%', '3P', '3PA', '3P%',\n",
       "       '2P', '2PA', '2P%', 'eFG%', 'FT', 'FTA', 'FT%', 'ORB', 'DRB', 'TRB',\n",
       "       'AST', 'STL', 'BLK', 'TOV', 'PF', 'PTS', 'year_start', 'year_end',\n",
       "       'position', 'height', 'weight', 'birth_date', 'college'],\n",
       "      dtype='object')"
      ]
     },
     "execution_count": 4,
     "metadata": {},
     "output_type": "execute_result"
    }
   ],
   "source": [
    "nba_dataset = pd.merge(nba_data1, nba_data2, how='left',on='Player')\n",
    "nba_dataset.head()\n",
    "nba_dataset.columns"
   ]
  },
  {
   "cell_type": "code",
   "execution_count": 5,
   "metadata": {},
   "outputs": [
    {
     "data": {
      "text/html": [
       "<div>\n",
       "<style scoped>\n",
       "    .dataframe tbody tr th:only-of-type {\n",
       "        vertical-align: middle;\n",
       "    }\n",
       "\n",
       "    .dataframe tbody tr th {\n",
       "        vertical-align: top;\n",
       "    }\n",
       "\n",
       "    .dataframe thead th {\n",
       "        text-align: right;\n",
       "    }\n",
       "</style>\n",
       "<table border=\"1\" class=\"dataframe\">\n",
       "  <thead>\n",
       "    <tr style=\"text-align: right;\">\n",
       "      <th></th>\n",
       "      <th>Year</th>\n",
       "      <th>Player</th>\n",
       "      <th>Tm</th>\n",
       "      <th>Age</th>\n",
       "      <th>Pos</th>\n",
       "      <th>college</th>\n",
       "    </tr>\n",
       "  </thead>\n",
       "  <tbody>\n",
       "    <tr>\n",
       "      <th>0</th>\n",
       "      <td>1950.0</td>\n",
       "      <td>Curly Armstrong</td>\n",
       "      <td>FTW</td>\n",
       "      <td>31.0</td>\n",
       "      <td>G-F</td>\n",
       "      <td>Indiana University</td>\n",
       "    </tr>\n",
       "    <tr>\n",
       "      <th>1</th>\n",
       "      <td>1950.0</td>\n",
       "      <td>Cliff Barker</td>\n",
       "      <td>INO</td>\n",
       "      <td>29.0</td>\n",
       "      <td>SG</td>\n",
       "      <td>University of Kentucky</td>\n",
       "    </tr>\n",
       "    <tr>\n",
       "      <th>2</th>\n",
       "      <td>1950.0</td>\n",
       "      <td>Leo Barnhorst</td>\n",
       "      <td>CHS</td>\n",
       "      <td>25.0</td>\n",
       "      <td>SF</td>\n",
       "      <td>University of Notre Dame</td>\n",
       "    </tr>\n",
       "    <tr>\n",
       "      <th>3</th>\n",
       "      <td>1950.0</td>\n",
       "      <td>Ed Bartels</td>\n",
       "      <td>TOT</td>\n",
       "      <td>24.0</td>\n",
       "      <td>F</td>\n",
       "      <td>North Carolina State University</td>\n",
       "    </tr>\n",
       "    <tr>\n",
       "      <th>4</th>\n",
       "      <td>1950.0</td>\n",
       "      <td>Ed Bartels</td>\n",
       "      <td>DNN</td>\n",
       "      <td>24.0</td>\n",
       "      <td>F</td>\n",
       "      <td>North Carolina State University</td>\n",
       "    </tr>\n",
       "  </tbody>\n",
       "</table>\n",
       "</div>"
      ],
      "text/plain": [
       "     Year           Player   Tm   Age  Pos                          college\n",
       "0  1950.0  Curly Armstrong  FTW  31.0  G-F               Indiana University\n",
       "1  1950.0     Cliff Barker  INO  29.0   SG           University of Kentucky\n",
       "2  1950.0    Leo Barnhorst  CHS  25.0   SF         University of Notre Dame\n",
       "3  1950.0       Ed Bartels  TOT  24.0    F  North Carolina State University\n",
       "4  1950.0       Ed Bartels  DNN  24.0    F  North Carolina State University"
      ]
     },
     "execution_count": 5,
     "metadata": {},
     "output_type": "execute_result"
    }
   ],
   "source": [
    "nba_champion = nba_dataset[[\"Year\", \"Player\", \"Tm\", \"Age\", \"Pos\", \"college\"]]\n",
    "nba_champion.head()"
   ]
  },
  {
   "cell_type": "code",
   "execution_count": 6,
   "metadata": {},
   "outputs": [],
   "source": [
    "nba_1990champion = nba_champion.loc[nba_champion[\"Year\"] == 1990.0]\n",
    "nba_1990champion = nba_1990champion.loc[nba_1990champion[\"Tm\"] == \"DET\"]"
   ]
  },
  {
   "cell_type": "code",
   "execution_count": 7,
   "metadata": {},
   "outputs": [],
   "source": [
    "nba_1991champion = nba_champion.loc[nba_champion[\"Year\"] == 1991.0]\n",
    "nba_1991champion = nba_1991champion.loc[nba_1991champion[\"Tm\"] == \"CHI\"]"
   ]
  },
  {
   "cell_type": "code",
   "execution_count": 8,
   "metadata": {},
   "outputs": [],
   "source": [
    "combined1 = pd.merge(nba_1990champion, nba_1991champion, how='outer')"
   ]
  },
  {
   "cell_type": "code",
   "execution_count": 9,
   "metadata": {},
   "outputs": [],
   "source": [
    "nba_1992champion = nba_champion.loc[nba_champion[\"Year\"] == 1992.0]\n",
    "nba_1992champion = nba_1992champion.loc[nba_1992champion[\"Tm\"] == \"CHI\"]"
   ]
  },
  {
   "cell_type": "code",
   "execution_count": 10,
   "metadata": {},
   "outputs": [],
   "source": [
    "combined2 = pd.merge(combined1, nba_1992champion, how='outer')"
   ]
  },
  {
   "cell_type": "code",
   "execution_count": 11,
   "metadata": {},
   "outputs": [],
   "source": [
    "nba_1993champion = nba_champion.loc[nba_champion[\"Year\"] == 1993.0]\n",
    "nba_1993champion = nba_1993champion.loc[nba_1993champion[\"Tm\"] == \"CHI\"]"
   ]
  },
  {
   "cell_type": "code",
   "execution_count": 12,
   "metadata": {},
   "outputs": [],
   "source": [
    "combined3 = pd.merge(combined2, nba_1993champion, how='outer')"
   ]
  },
  {
   "cell_type": "code",
   "execution_count": 13,
   "metadata": {},
   "outputs": [],
   "source": [
    "nba_1994champion = nba_champion.loc[nba_champion[\"Year\"] == 1994.0]\n",
    "nba_1994champion = nba_1994champion.loc[nba_1994champion[\"Tm\"] == \"HOU\"]"
   ]
  },
  {
   "cell_type": "code",
   "execution_count": 14,
   "metadata": {},
   "outputs": [],
   "source": [
    "combined4 = pd.merge(combined3, nba_1994champion, how='outer')"
   ]
  },
  {
   "cell_type": "code",
   "execution_count": 15,
   "metadata": {},
   "outputs": [],
   "source": [
    "nba_1995champion = nba_champion.loc[nba_champion[\"Year\"] == 1995.0]\n",
    "nba_1995champion = nba_1995champion.loc[nba_1995champion[\"Tm\"] == \"HOU\"]"
   ]
  },
  {
   "cell_type": "code",
   "execution_count": 16,
   "metadata": {},
   "outputs": [],
   "source": [
    "combined5 = pd.merge(combined4, nba_1995champion, how='outer')"
   ]
  },
  {
   "cell_type": "code",
   "execution_count": 17,
   "metadata": {},
   "outputs": [],
   "source": [
    "nba_1996champion = nba_champion.loc[nba_champion[\"Year\"] == 1996.0]\n",
    "nba_1996champion = nba_1996champion.loc[nba_1996champion[\"Tm\"] == \"CHI\"]"
   ]
  },
  {
   "cell_type": "code",
   "execution_count": 18,
   "metadata": {},
   "outputs": [],
   "source": [
    "combined6 = pd.merge(combined5, nba_1996champion, how='outer')"
   ]
  },
  {
   "cell_type": "code",
   "execution_count": 19,
   "metadata": {},
   "outputs": [],
   "source": [
    "nba_1997champion = nba_champion.loc[nba_champion[\"Year\"] == 1997.0]\n",
    "nba_1997champion = nba_1997champion.loc[nba_1997champion[\"Tm\"] == \"CHI\"]"
   ]
  },
  {
   "cell_type": "code",
   "execution_count": 20,
   "metadata": {},
   "outputs": [],
   "source": [
    "combined7 = pd.merge(combined6, nba_1997champion, how='outer')"
   ]
  },
  {
   "cell_type": "code",
   "execution_count": 21,
   "metadata": {},
   "outputs": [],
   "source": [
    "nba_1998champion = nba_champion.loc[nba_champion[\"Year\"] == 1998.0]\n",
    "nba_1998champion = nba_1998champion.loc[nba_1998champion[\"Tm\"] == \"CHI\"]"
   ]
  },
  {
   "cell_type": "code",
   "execution_count": 22,
   "metadata": {},
   "outputs": [],
   "source": [
    "combined8 = pd.merge(combined7, nba_1998champion, how='outer')"
   ]
  },
  {
   "cell_type": "code",
   "execution_count": 23,
   "metadata": {},
   "outputs": [],
   "source": [
    "nba_1999champion = nba_champion.loc[nba_champion[\"Year\"] == 1999.0]\n",
    "nba_1999champion = nba_1999champion.loc[nba_1999champion[\"Tm\"] == \"SAS\"]"
   ]
  },
  {
   "cell_type": "code",
   "execution_count": 24,
   "metadata": {},
   "outputs": [],
   "source": [
    "combined9 = pd.merge(combined8, nba_1999champion, how='outer')"
   ]
  },
  {
   "cell_type": "code",
   "execution_count": 25,
   "metadata": {},
   "outputs": [],
   "source": [
    "nba_2000champion = nba_champion.loc[nba_champion[\"Year\"] == 2000.0]\n",
    "nba_2000champion = nba_2000champion.loc[nba_2000champion[\"Tm\"] == \"LAL\"]"
   ]
  },
  {
   "cell_type": "code",
   "execution_count": 26,
   "metadata": {},
   "outputs": [],
   "source": [
    "combined10 = pd.merge(combined9, nba_2000champion, how='outer')"
   ]
  },
  {
   "cell_type": "code",
   "execution_count": 27,
   "metadata": {},
   "outputs": [],
   "source": [
    "nba_2001champion = nba_champion.loc[nba_champion[\"Year\"] == 2001.0]\n",
    "nba_2001champion = nba_2001champion.loc[nba_2001champion[\"Tm\"] == \"LAL\"]"
   ]
  },
  {
   "cell_type": "code",
   "execution_count": 28,
   "metadata": {},
   "outputs": [],
   "source": [
    "combined11 = pd.merge(combined10, nba_2001champion, how='outer')"
   ]
  },
  {
   "cell_type": "code",
   "execution_count": 29,
   "metadata": {},
   "outputs": [],
   "source": [
    "nba_2002champion = nba_champion.loc[nba_champion[\"Year\"] == 2002.0]\n",
    "nba_2002champion = nba_2002champion.loc[nba_2002champion[\"Tm\"] == \"LAL\"]"
   ]
  },
  {
   "cell_type": "code",
   "execution_count": 30,
   "metadata": {},
   "outputs": [],
   "source": [
    "combined12 = pd.merge(combined11, nba_2002champion, how='outer')"
   ]
  },
  {
   "cell_type": "code",
   "execution_count": 31,
   "metadata": {},
   "outputs": [],
   "source": [
    "nba_2003champion = nba_champion.loc[nba_champion[\"Year\"] == 2003.0]\n",
    "nba_2003champion = nba_2003champion.loc[nba_2003champion[\"Tm\"] == \"SAS\"]"
   ]
  },
  {
   "cell_type": "code",
   "execution_count": 32,
   "metadata": {},
   "outputs": [],
   "source": [
    "combined13 = pd.merge(combined12, nba_2003champion, how='outer')"
   ]
  },
  {
   "cell_type": "code",
   "execution_count": 33,
   "metadata": {},
   "outputs": [],
   "source": [
    "nba_2004champion = nba_champion.loc[nba_champion[\"Year\"] == 2004.0]\n",
    "nba_2004champion = nba_2004champion.loc[nba_2004champion[\"Tm\"] == \"DET\"]"
   ]
  },
  {
   "cell_type": "code",
   "execution_count": 34,
   "metadata": {},
   "outputs": [],
   "source": [
    "combined14 = pd.merge(combined13, nba_2004champion, how='outer')"
   ]
  },
  {
   "cell_type": "code",
   "execution_count": 35,
   "metadata": {},
   "outputs": [],
   "source": [
    "nba_2005champion = nba_champion.loc[nba_champion[\"Year\"] == 2005.0]\n",
    "nba_2005champion = nba_2005champion.loc[nba_2005champion[\"Tm\"] == \"SAS\"]"
   ]
  },
  {
   "cell_type": "code",
   "execution_count": 36,
   "metadata": {},
   "outputs": [],
   "source": [
    "combined15 = pd.merge(combined14, nba_2005champion, how='outer')"
   ]
  },
  {
   "cell_type": "code",
   "execution_count": 37,
   "metadata": {},
   "outputs": [],
   "source": [
    "nba_2006champion = nba_champion.loc[nba_champion[\"Year\"] == 2006.0]\n",
    "nba_2006champion = nba_2006champion.loc[nba_2006champion[\"Tm\"] == \"MIA\"]"
   ]
  },
  {
   "cell_type": "code",
   "execution_count": 38,
   "metadata": {},
   "outputs": [],
   "source": [
    "combined16 = pd.merge(combined15, nba_2006champion, how='outer')"
   ]
  },
  {
   "cell_type": "code",
   "execution_count": 39,
   "metadata": {},
   "outputs": [],
   "source": [
    "nba_2007champion = nba_champion.loc[nba_champion[\"Year\"] == 2007.0]\n",
    "nba_2007champion = nba_2007champion.loc[nba_2007champion[\"Tm\"] == \"SAS\"]"
   ]
  },
  {
   "cell_type": "code",
   "execution_count": 40,
   "metadata": {},
   "outputs": [],
   "source": [
    "combined17 = pd.merge(combined16, nba_2007champion, how='outer')"
   ]
  },
  {
   "cell_type": "code",
   "execution_count": 41,
   "metadata": {},
   "outputs": [],
   "source": [
    "nba_2008champion = nba_champion.loc[nba_champion[\"Year\"] == 2008.0]\n",
    "nba_2008champion = nba_2008champion.loc[nba_2008champion[\"Tm\"] == \"BOS\"]"
   ]
  },
  {
   "cell_type": "code",
   "execution_count": 42,
   "metadata": {},
   "outputs": [],
   "source": [
    "combined18 = pd.merge(combined17, nba_2008champion, how='outer')"
   ]
  },
  {
   "cell_type": "code",
   "execution_count": 43,
   "metadata": {},
   "outputs": [],
   "source": [
    "nba_2009champion = nba_champion.loc[nba_champion[\"Year\"] == 2009.0]\n",
    "nba_2009champion = nba_2009champion.loc[nba_2009champion[\"Tm\"] == \"LAL\"]"
   ]
  },
  {
   "cell_type": "code",
   "execution_count": 44,
   "metadata": {},
   "outputs": [],
   "source": [
    "combined19 = pd.merge(combined18, nba_2009champion, how='outer')"
   ]
  },
  {
   "cell_type": "code",
   "execution_count": 45,
   "metadata": {},
   "outputs": [],
   "source": [
    "nba_2010champion = nba_champion.loc[nba_champion[\"Year\"] == 2010.0]\n",
    "nba_2010champion = nba_2010champion.loc[nba_2010champion[\"Tm\"] == \"LAL\"]"
   ]
  },
  {
   "cell_type": "code",
   "execution_count": 46,
   "metadata": {},
   "outputs": [],
   "source": [
    "combined20 = pd.merge(combined19, nba_2010champion, how='outer')"
   ]
  },
  {
   "cell_type": "code",
   "execution_count": 47,
   "metadata": {},
   "outputs": [],
   "source": [
    "nba_2011champion = nba_champion.loc[nba_champion[\"Year\"] == 2011.0]\n",
    "nba_2011champion = nba_2011champion.loc[nba_2011champion[\"Tm\"] == \"DAL\"]"
   ]
  },
  {
   "cell_type": "code",
   "execution_count": 48,
   "metadata": {},
   "outputs": [],
   "source": [
    "combined21 = pd.merge(combined20, nba_2011champion, how='outer')"
   ]
  },
  {
   "cell_type": "code",
   "execution_count": 49,
   "metadata": {},
   "outputs": [],
   "source": [
    "nba_2012champion = nba_champion.loc[nba_champion[\"Year\"] == 2012.0]\n",
    "nba_2012champion = nba_2012champion.loc[nba_2012champion[\"Tm\"] == \"MIA\"]"
   ]
  },
  {
   "cell_type": "code",
   "execution_count": 50,
   "metadata": {},
   "outputs": [],
   "source": [
    "combined22 = pd.merge(combined21, nba_2012champion, how='outer')"
   ]
  },
  {
   "cell_type": "code",
   "execution_count": 51,
   "metadata": {},
   "outputs": [],
   "source": [
    "nba_2013champion = nba_champion.loc[nba_champion[\"Year\"] == 2013.0]\n",
    "nba_2013champion = nba_2013champion.loc[nba_2013champion[\"Tm\"] == \"MIA\"]"
   ]
  },
  {
   "cell_type": "code",
   "execution_count": 52,
   "metadata": {},
   "outputs": [],
   "source": [
    "combined23 = pd.merge(combined22, nba_2013champion, how='outer')"
   ]
  },
  {
   "cell_type": "code",
   "execution_count": 53,
   "metadata": {},
   "outputs": [],
   "source": [
    "nba_2014champion = nba_champion.loc[nba_champion[\"Year\"] == 2014.0]\n",
    "nba_2014champion = nba_2014champion.loc[nba_2014champion[\"Tm\"] == \"SAS\"]"
   ]
  },
  {
   "cell_type": "code",
   "execution_count": 54,
   "metadata": {},
   "outputs": [],
   "source": [
    "combined24 = pd.merge(combined23, nba_2014champion, how='outer')"
   ]
  },
  {
   "cell_type": "code",
   "execution_count": 55,
   "metadata": {},
   "outputs": [],
   "source": [
    "nba_2015champion = nba_champion.loc[nba_champion[\"Year\"] == 2015.0]\n",
    "nba_2015champion = nba_2015champion.loc[nba_2015champion[\"Tm\"] == \"GSW\"]"
   ]
  },
  {
   "cell_type": "code",
   "execution_count": 56,
   "metadata": {},
   "outputs": [],
   "source": [
    "combined25 = pd.merge(combined24, nba_2015champion, how='outer')"
   ]
  },
  {
   "cell_type": "code",
   "execution_count": 57,
   "metadata": {},
   "outputs": [],
   "source": [
    "nba_2016champion = nba_champion.loc[nba_champion[\"Year\"] == 2016.0]\n",
    "nba_2016champion = nba_2016champion.loc[nba_2016champion[\"Tm\"] == \"CLE\"]"
   ]
  },
  {
   "cell_type": "code",
   "execution_count": 58,
   "metadata": {},
   "outputs": [],
   "source": [
    "combined26 = pd.merge(combined25, nba_2016champion, how='outer')"
   ]
  },
  {
   "cell_type": "code",
   "execution_count": 59,
   "metadata": {},
   "outputs": [],
   "source": [
    "nba_2017champion = nba_champion.loc[nba_champion[\"Year\"] == 2017.0]\n",
    "nba_2017champion = nba_2017champion.loc[nba_2017champion[\"Tm\"] == \"GSW\"]"
   ]
  },
  {
   "cell_type": "code",
   "execution_count": 60,
   "metadata": {},
   "outputs": [],
   "source": [
    "combined27 = pd.merge(combined26, nba_2017champion, how='outer')"
   ]
  },
  {
   "cell_type": "code",
   "execution_count": 62,
   "metadata": {},
   "outputs": [],
   "source": [
    "nba_2018champion = nba_champion.loc[nba_champion[\"Year\"] == 2018.0]\n",
    "nba_2018champion = nba_2018champion.loc[nba_2018champion[\"Tm\"] == \"GSW\"]"
   ]
  },
  {
   "cell_type": "code",
   "execution_count": 63,
   "metadata": {},
   "outputs": [],
   "source": [
    "combined28 = pd.merge(combined27, nba_2018champion, how='outer')"
   ]
  },
  {
   "cell_type": "code",
   "execution_count": 65,
   "metadata": {},
   "outputs": [
    {
     "data": {
      "text/plain": [
       "college\n",
       "University of California, Los Angeles      11\n",
       "University of Arizona                       9\n",
       "University of Florida                       9\n",
       "University of North Carolina                9\n",
       "University of Kansas                        8\n",
       "University of Kentucky                      7\n",
       "University of Texas at Austin               6\n",
       "University of Connecticut                   5\n",
       "Duke University                             5\n",
       "Michigan State University                   5\n",
       "Georgia Institute of Technology             5\n",
       "University of Arkansas                      4\n",
       "University of California                    4\n",
       "University of Michigan                      4\n",
       "University of Nevada, Las Vegas             4\n",
       "University of Alabama                       3\n",
       "Gonzaga University                          3\n",
       "Providence College                          3\n",
       "Oregon State University                     3\n",
       "University of Iowa                          3\n",
       "Oklahoma State University                   3\n",
       "North Carolina State University             3\n",
       "University of Louisville                    3\n",
       "University of Memphis                       3\n",
       "Xavier University                           3\n",
       "Vanderbilt University                       3\n",
       "University of Washington                    2\n",
       "University of Utah                          2\n",
       "Marquette University                        2\n",
       "Washington State University                 2\n",
       "                                           ..\n",
       "University of New Mexico                    1\n",
       "University of Oklahoma                      1\n",
       "University of Rhode Island                  1\n",
       "University of Southern Mississippi          1\n",
       "University of Tennessee                     1\n",
       "University of Texas at El Paso              1\n",
       "University of Texas at San Antonio          1\n",
       "University of Virginia                      1\n",
       "University of Wisconsin                     1\n",
       "University of Wyoming                       1\n",
       "Virginia Union University                   1\n",
       "University of Detroit Mercy                 1\n",
       "University of Colorado                      1\n",
       "University of Cincinnati                    1\n",
       "Seton Hall University                       1\n",
       "Nicholls State University                   1\n",
       "Northeastern University                     1\n",
       "Oral Roberts University                     1\n",
       "Pennsylvania State University               1\n",
       "Rice University                             1\n",
       "Robert Morris University (IL)               1\n",
       "Southern University and A&M College         1\n",
       "University of California, Santa Barbara     1\n",
       "Wichita State University                    1\n",
       "Stanford University                         1\n",
       "Texas Tech University                       1\n",
       "Tulane University                           1\n",
       "University of Arkansas at Little Rock       1\n",
       "University of California, Irvine            1\n",
       "Alabama A&M University                      1\n",
       "Name: Player, Length: 113, dtype: int64"
      ]
     },
     "execution_count": 65,
     "metadata": {},
     "output_type": "execute_result"
    }
   ],
   "source": [
    "Playercount = combined28.groupby(\"college\")\n",
    "college = Playercount.nunique()[\"Player\"]\n",
    "college.sort_values(ascending=False)"
   ]
  },
  {
   "cell_type": "code",
   "execution_count": null,
   "metadata": {},
   "outputs": [],
   "source": [
    "cities = [\"UCLA\", \"UNC\", \"Kentucky\", \"Cincinnati\", \"Ohio State University\"]\n",
    "college_count = [5.0, 5.0, 5.0, 5.0, 4.0]\n",
    "x_axis = np.arange(len(college_count))"
   ]
  },
  {
   "cell_type": "code",
   "execution_count": null,
   "metadata": {},
   "outputs": [],
   "source": [
    "plt.bar(x_axis, college_count, color=\"b\", align=\"center\")"
   ]
  },
  {
   "cell_type": "code",
   "execution_count": null,
   "metadata": {},
   "outputs": [],
   "source": [
    "tick_locations = [value for value in x_axis]\n",
    "plt.xticks(tick_locations, cities)"
   ]
  },
  {
   "cell_type": "code",
   "execution_count": null,
   "metadata": {},
   "outputs": [],
   "source": [
    "plt.xlim(-0.75, len(x_axis)-0.25)"
   ]
  },
  {
   "cell_type": "code",
   "execution_count": null,
   "metadata": {},
   "outputs": [],
   "source": [
    "plt.ylim(0, max(college_count)+0.4)"
   ]
  },
  {
   "cell_type": "code",
   "execution_count": null,
   "metadata": {},
   "outputs": [],
   "source": [
    "plt.title(\"College Champions Representation\")\n",
    "plt.xlabel(\"Cities\")\n",
    "plt.ylabel(\"College Count\")"
   ]
  },
  {
   "cell_type": "code",
   "execution_count": null,
   "metadata": {},
   "outputs": [],
   "source": [
    "plt.show()"
   ]
  },
  {
   "cell_type": "code",
   "execution_count": null,
   "metadata": {},
   "outputs": [],
   "source": []
  },
  {
   "cell_type": "code",
   "execution_count": null,
   "metadata": {},
   "outputs": [],
   "source": []
  },
  {
   "cell_type": "code",
   "execution_count": null,
   "metadata": {},
   "outputs": [],
   "source": []
  },
  {
   "cell_type": "code",
   "execution_count": null,
   "metadata": {},
   "outputs": [],
   "source": []
  },
  {
   "cell_type": "code",
   "execution_count": null,
   "metadata": {},
   "outputs": [],
   "source": []
  },
  {
   "cell_type": "code",
   "execution_count": null,
   "metadata": {},
   "outputs": [],
   "source": []
  },
  {
   "cell_type": "code",
   "execution_count": null,
   "metadata": {},
   "outputs": [],
   "source": []
  },
  {
   "cell_type": "code",
   "execution_count": null,
   "metadata": {},
   "outputs": [],
   "source": []
  }
 ],
 "metadata": {
  "kernelspec": {
   "display_name": "Python 3",
   "language": "python",
   "name": "python3"
  },
  "language_info": {
   "codemirror_mode": {
    "name": "ipython",
    "version": 3
   },
   "file_extension": ".py",
   "mimetype": "text/x-python",
   "name": "python",
   "nbconvert_exporter": "python",
   "pygments_lexer": "ipython3",
   "version": "3.6.8"
  }
 },
 "nbformat": 4,
 "nbformat_minor": 2
}
